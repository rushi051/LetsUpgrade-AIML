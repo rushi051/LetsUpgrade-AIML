{
 "cells": [
  {
   "cell_type": "markdown",
   "metadata": {},
   "source": [
    "# 1. Create a 3x3x3 array with random values "
   ]
  },
  {
   "cell_type": "code",
   "execution_count": 3,
   "metadata": {},
   "outputs": [
    {
     "name": "stdout",
     "output_type": "stream",
     "text": [
      "[1.42141402 1.28022552 1.27679566]\n"
     ]
    }
   ],
   "source": [
    "arr = np.random.uniform((3,3,3))\n",
    "print (arr)\n"
   ]
  },
  {
   "cell_type": "markdown",
   "metadata": {},
   "source": [
    "# 2.Create a 5x5 matrix with values 1,2,3,4 just below the diagonal"
   ]
  },
  {
   "cell_type": "code",
   "execution_count": 4,
   "metadata": {},
   "outputs": [
    {
     "name": "stdout",
     "output_type": "stream",
     "text": [
      "[[0 0 0 0 0]\n",
      " [1 0 0 0 0]\n",
      " [0 2 0 0 0]\n",
      " [0 0 3 0 0]\n",
      " [0 0 0 4 0]]\n"
     ]
    }
   ],
   "source": [
    "ar = np.diag(1+np.arange(4), k = -1)\n",
    "print (ar)"
   ]
  },
  {
   "cell_type": "markdown",
   "metadata": {},
   "source": [
    "# 3.Create a 8x8 matrix and fill it with a checkerboard pattern"
   ]
  },
  {
   "cell_type": "code",
   "execution_count": 5,
   "metadata": {},
   "outputs": [
    {
     "name": "stdout",
     "output_type": "stream",
     "text": [
      "[[0 1 0 1 0 1 0 1]\n",
      " [1 0 1 0 1 0 1 0]\n",
      " [0 1 0 1 0 1 0 1]\n",
      " [1 0 1 0 1 0 1 0]\n",
      " [0 1 0 1 0 1 0 1]\n",
      " [1 0 1 0 1 0 1 0]\n",
      " [0 1 0 1 0 1 0 1]\n",
      " [1 0 1 0 1 0 1 0]]\n"
     ]
    }
   ],
   "source": [
    "a = np.zeros ((8,8), dtype=int)\n",
    "a[1::2, ::2]= 1\n",
    "a[::2, 1::2] = 1\n",
    "print (a)"
   ]
  },
  {
   "cell_type": "markdown",
   "metadata": {},
   "source": [
    "# 4. Normalize a 5x5 random matrix"
   ]
  },
  {
   "cell_type": "code",
   "execution_count": 6,
   "metadata": {},
   "outputs": [
    {
     "name": "stdout",
     "output_type": "stream",
     "text": [
      "[[0.05822565 0.69648189 0.35724274 0.8698517  1.        ]\n",
      " [0.04071932 0.52934407 0.20792486 0.56022257 0.95672703]\n",
      " [0.15432353 0.86715209 0.01697916 0.82225749 0.16670237]\n",
      " [0.94313669 0.120212   0.10082079 0.9674203  0.77095603]\n",
      " [0.77620991 0.55382634 0.50153351 0.26337859 0.        ]]\n"
     ]
    }
   ],
   "source": [
    "arr = np.random.random((5,5))\n",
    "arrmax, arrmin = arr.max(), arr.min()\n",
    "arr= (arr-arrmin)/(arrmax-arrmin)\n",
    "print (arr)"
   ]
  },
  {
   "cell_type": "markdown",
   "metadata": {},
   "source": [
    "# 5.  How to find common values between two arrays?"
   ]
  },
  {
   "cell_type": "code",
   "execution_count": 7,
   "metadata": {},
   "outputs": [
    {
     "name": "stdout",
     "output_type": "stream",
     "text": [
      "[ 0 10 20 40 60]\n",
      "[10, 30, 40]\n",
      "Common values between two arrays:\n",
      "[10 40]\n"
     ]
    }
   ],
   "source": [
    "\n",
    "array1 = np.array([0, 10, 20, 40, 60])\n",
    "print(array1)\n",
    "array2 = [10, 30, 40]\n",
    "print(array2)\n",
    "print(\"Common values between two arrays:\")\n",
    "print(np.intersect1d(array1, array2))"
   ]
  },
  {
   "cell_type": "markdown",
   "metadata": {},
   "source": [
    "# 6.How to get the dates of yesterday, today and tomorrow?"
   ]
  },
  {
   "cell_type": "code",
   "execution_count": 8,
   "metadata": {},
   "outputs": [
    {
     "name": "stdout",
     "output_type": "stream",
     "text": [
      "Yestraday:  2020-07-25\n",
      "Today:  2020-07-26\n",
      "Tomorrow:  2020-07-27\n"
     ]
    }
   ],
   "source": [
    "yesterday = np.datetime64('today', 'D') - np.timedelta64(1, 'D')\n",
    "print(\"Yestraday: \",yesterday)\n",
    "today     = np.datetime64('today', 'D')\n",
    "print(\"Today: \",today)\n",
    "tomorrow  = np.datetime64('today', 'D') + np.timedelta64(1, 'D')\n",
    "print(\"Tomorrow: \",tomorrow)"
   ]
  },
  {
   "cell_type": "markdown",
   "metadata": {},
   "source": [
    "# 7. Consider two random array A and B, check if they are equal"
   ]
  },
  {
   "cell_type": "code",
   "execution_count": 17,
   "metadata": {},
   "outputs": [
    {
     "name": "stdout",
     "output_type": "stream",
     "text": [
      "[2 2 2 2 2 2]\n",
      "[2 2 2 2 2 2]\n",
      "True\n"
     ]
    }
   ],
   "source": [
    "x = np.random.randint(2,3,6)\n",
    "print(x)\n",
    "y = np.random.randint(2,3,6)\n",
    "print(y)\n",
    "array_equal = np.allclose(x, y)\n",
    "print(array_equal)"
   ]
  },
  {
   "cell_type": "markdown",
   "metadata": {},
   "source": [
    "# 8.Create random vector of size 10 and replace the maximum value by 0 "
   ]
  },
  {
   "cell_type": "code",
   "execution_count": 11,
   "metadata": {},
   "outputs": [
    {
     "name": "stdout",
     "output_type": "stream",
     "text": [
      "[0.28923253 0.69809269 0.01316654 0.         0.14146221 0.32077872\n",
      " 0.06701745 0.23287205 0.4051064  0.59393671]\n"
     ]
    }
   ],
   "source": [
    "Z = np.random.random(10)\n",
    "Z[Z.argmax()] = 0\n",
    "print(Z)\n"
   ]
  },
  {
   "cell_type": "markdown",
   "metadata": {},
   "source": [
    "# 9. How to print all the values of an array?"
   ]
  },
  {
   "cell_type": "code",
   "execution_count": 25,
   "metadata": {},
   "outputs": [
    {
     "name": "stdout",
     "output_type": "stream",
     "text": [
      "[[0.97880665 0.06013717 0.08390044 0.39290111 0.47035761 0.47950206\n",
      "  0.71287054 0.95997268 0.04040018 0.07161649]\n",
      " [0.49953932 0.69378524 0.44162007 0.73679852 0.69340553 0.32202403\n",
      "  0.45735306 0.40085739 0.3182183  0.72890819]\n",
      " [0.82539276 0.6236267  0.64044497 0.54732153 0.36308218 0.63501276\n",
      "  0.19994941 0.93788355 0.3359913  0.3950859 ]\n",
      " [0.24325282 0.13588768 0.89007375 0.21202565 0.82810185 0.58255225\n",
      "  0.71652352 0.1793262  0.4682044  0.32632143]\n",
      " [0.4164612  0.8174177  0.18095107 0.60212637 0.16955397 0.21775467\n",
      "  0.02698195 0.92580159 0.58852634 0.92287208]\n",
      " [0.55017215 0.57820656 0.36178606 0.84142862 0.32893991 0.33077943\n",
      "  0.16214499 0.90313583 0.96801175 0.58863618]\n",
      " [0.4458354  0.60057899 0.4524276  0.82696088 0.00623696 0.96362898\n",
      "  0.98986769 0.51699483 0.86499593 0.3421328 ]\n",
      " [0.55401745 0.84959882 0.82397485 0.21607064 0.55257334 0.60783634\n",
      "  0.75010674 0.3155251  0.14573007 0.01779072]\n",
      " [0.00797792 0.18423063 0.67263495 0.72456043 0.14783773 0.12501836\n",
      "  0.73111036 0.49692223 0.58106685 0.55150751]\n",
      " [0.90085076 0.39517217 0.83010078 0.65428867 0.63404349 0.09258169\n",
      "  0.9173008  0.36863085 0.89617957 0.08648557]]\n"
     ]
    }
   ],
   "source": [
    "\n",
    "Z = np.random.random((10,10))\n",
    "print(Z)"
   ]
  },
  {
   "cell_type": "markdown",
   "metadata": {},
   "source": [
    "# 10.Subtract the mean of each row of a matrix"
   ]
  },
  {
   "cell_type": "code",
   "execution_count": 27,
   "metadata": {},
   "outputs": [
    {
     "name": "stdout",
     "output_type": "stream",
     "text": [
      "[[ 0.53894627 -0.08708262  0.32899325 -0.37871716 -0.33521617  0.229276\n",
      "  -0.2031882   0.17934309 -0.09642457 -0.17592989]\n",
      " [-0.18210891 -0.35305383  0.24347925  0.05966788 -0.08495848  0.50592041\n",
      "  -0.04069833  0.03217497  0.08994011 -0.27036306]\n",
      " [-0.35602037  0.42291862  0.08445269 -0.17631927  0.22654266 -0.04589745\n",
      "   0.01248304 -0.06135595 -0.24258148  0.13577751]\n",
      " [ 0.25241546  0.38008482 -0.01452237 -0.48521895  0.04372499 -0.17672564\n",
      "  -0.11098403 -0.0077454   0.43172252 -0.31275141]\n",
      " [-0.48038469  0.12206428 -0.22220561 -0.22038017  0.33037963 -0.26006761\n",
      "   0.46325196  0.050038    0.12527808  0.09202614]]\n"
     ]
    }
   ],
   "source": [
    "X = np.random.rand(5, 10)\n",
    "\n",
    "\n",
    "Y = X - X.mean(axis=1, keepdims=True)\n",
    "print(Y)"
   ]
  },
  {
   "cell_type": "markdown",
   "metadata": {},
   "source": [
    "# 11.Consider a given vector, how to add 1 to each element indexed by a second vector (be careful with repeated indices)? "
   ]
  },
  {
   "cell_type": "code",
   "execution_count": 28,
   "metadata": {},
   "outputs": [
    {
     "name": "stdout",
     "output_type": "stream",
     "text": [
      "[2. 4. 3. 2. 1. 3. 6. 5. 3. 1.]\n"
     ]
    }
   ],
   "source": [
    "Z = np.ones(10)\n",
    "I = np.random.randint(0,len(Z),20)\n",
    "Z += np.bincount(I, minlength=len(Z))\n",
    "print(Z)"
   ]
  },
  {
   "cell_type": "code",
   "execution_count": null,
   "metadata": {},
   "outputs": [],
   "source": []
  },
  {
   "cell_type": "markdown",
   "metadata": {},
   "source": [
    "# 12.How to get the diagonal of a dot product?"
   ]
  },
  {
   "cell_type": "code",
   "execution_count": 31,
   "metadata": {},
   "outputs": [
    {
     "data": {
      "text/plain": [
       "array([89, 23, 23])"
      ]
     },
     "execution_count": 31,
     "metadata": {},
     "output_type": "execute_result"
    }
   ],
   "source": [
    "A = np.random.randint(0,10,(3,3))\n",
    "B= np.random.randint(0,10,(3,3))\n",
    "\n",
    "np.einsum(\"ij,ji->i\", A, B)"
   ]
  },
  {
   "cell_type": "markdown",
   "metadata": {},
   "source": [
    "# 13.How to find the most frequent value in an array?"
   ]
  },
  {
   "cell_type": "code",
   "execution_count": 32,
   "metadata": {},
   "outputs": [
    {
     "name": "stdout",
     "output_type": "stream",
     "text": [
      "[7 6 9 3 4 3 0 9 8 9 7 1 7 9 0 4 4 7 4 3 1 2 7 6 0 5 6 4 7 9 1 8 4 0 9 7 6\n",
      " 6 0 8 9 7 6 1 4 7 0 8 2 5]\n",
      "rank: 7\n"
     ]
    }
   ],
   "source": [
    "Z = np.random.randint(0,10,50)\n",
    "print (Z)\n",
    "print('rank:', np.bincount(Z).argmax())"
   ]
  },
  {
   "cell_type": "markdown",
   "metadata": {},
   "source": [
    "# 14.How to get the n largest values of an array"
   ]
  },
  {
   "cell_type": "code",
   "execution_count": 33,
   "metadata": {},
   "outputs": [
    {
     "name": "stdout",
     "output_type": "stream",
     "text": [
      "Original array:\n",
      "[0 1 2 3 4 5 6 7 8 9]\n",
      "[9]\n"
     ]
    }
   ],
   "source": [
    "x = np.arange(10)\n",
    "print(\"Original array:\")\n",
    "print(x)\n",
    "np.random.shuffle(x)\n",
    "n = 1\n",
    "print (x[np.argsort(x)[-n:]])"
   ]
  },
  {
   "cell_type": "markdown",
   "metadata": {},
   "source": [
    "# 15.How to create a record array from a regular array?"
   ]
  },
  {
   "cell_type": "code",
   "execution_count": 34,
   "metadata": {},
   "outputs": [
    {
     "name": "stdout",
     "output_type": "stream",
     "text": [
      "(1, 'Red', 12.2)\n",
      "(2, 'Green', 15.)\n",
      "(3, 'White', 20.)\n"
     ]
    }
   ],
   "source": [
    "a1=np.array([1,2,3,4])\n",
    "a2=np.array(['Red','Green','White','Orange'])\n",
    "a3=np.array([12.20,15,20,40])\n",
    "result= np.core.records.fromarrays([a1, a2, a3],names='a,b,c')\n",
    "print(result[0])\n",
    "print(result[1])\n",
    "print(result[2])"
   ]
  },
  {
   "cell_type": "code",
   "execution_count": null,
   "metadata": {},
   "outputs": [],
   "source": []
  }
 ],
 "metadata": {
  "kernelspec": {
   "display_name": "Python 3",
   "language": "python",
   "name": "python3"
  },
  "language_info": {
   "codemirror_mode": {
    "name": "ipython",
    "version": 3
   },
   "file_extension": ".py",
   "mimetype": "text/x-python",
   "name": "python",
   "nbconvert_exporter": "python",
   "pygments_lexer": "ipython3",
   "version": "3.7.6"
  }
 },
 "nbformat": 4,
 "nbformat_minor": 2
}
