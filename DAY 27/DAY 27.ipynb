{
 "cells": [
  {
   "cell_type": "code",
   "execution_count": 1,
   "metadata": {},
   "outputs": [
    {
     "name": "stdout",
     "output_type": "stream",
     "text": [
      "E:\\AIML\\DAY 27\n"
     ]
    }
   ],
   "source": [
    "%cd \"E:\\AIML\\DAY 27\""
   ]
  },
  {
   "cell_type": "code",
   "execution_count": 3,
   "metadata": {},
   "outputs": [],
   "source": [
    "import pandas as pd\n",
    "from sklearn import preprocessing\n",
    "from sklearn.model_selection import  train_test_split\n",
    "from sklearn.metrics import accuracy_score\n",
    "from sklearn.metrics import confusion_matrix\n"
   ]
  },
  {
   "cell_type": "code",
   "execution_count": 5,
   "metadata": {},
   "outputs": [],
   "source": [
    "data = pd.read_csv(\"train.csv\")"
   ]
  },
  {
   "cell_type": "code",
   "execution_count": 7,
   "metadata": {},
   "outputs": [
    {
     "data": {
      "text/plain": [
       "Index(['PassengerId', 'Survived', 'Pclass', 'Name', 'Sex', 'Age', 'SibSp',\n",
       "       'Parch', 'Ticket', 'Fare', 'Cabin', 'Embarked'],\n",
       "      dtype='object')"
      ]
     },
     "execution_count": 7,
     "metadata": {},
     "output_type": "execute_result"
    }
   ],
   "source": [
    "data.columns"
   ]
  },
  {
   "cell_type": "code",
   "execution_count": 8,
   "metadata": {},
   "outputs": [],
   "source": [
    "le = preprocessing.LabelEncoder()"
   ]
  },
  {
   "cell_type": "code",
   "execution_count": 9,
   "metadata": {},
   "outputs": [
    {
     "data": {
      "text/plain": [
       "LabelEncoder()"
      ]
     },
     "execution_count": 9,
     "metadata": {},
     "output_type": "execute_result"
    }
   ],
   "source": [
    "le.fit(data[\"Sex\"])"
   ]
  },
  {
   "cell_type": "code",
   "execution_count": 11,
   "metadata": {},
   "outputs": [],
   "source": [
    "data[\"Sex\"] = le.transform(data[\"Sex\"])"
   ]
  },
  {
   "cell_type": "code",
   "execution_count": 29,
   "metadata": {},
   "outputs": [
    {
     "data": {
      "text/plain": [
       "LabelEncoder()"
      ]
     },
     "execution_count": 29,
     "metadata": {},
     "output_type": "execute_result"
    }
   ],
   "source": [
    "le.fit(data[\"Embarked\"])"
   ]
  },
  {
   "cell_type": "code",
   "execution_count": 30,
   "metadata": {},
   "outputs": [],
   "source": [
    "data[\"Embarked\"] = le.transform(data[\"Embarked\"])"
   ]
  },
  {
   "cell_type": "code",
   "execution_count": 31,
   "metadata": {},
   "outputs": [],
   "source": [
    "from sklearn import neighbors"
   ]
  },
  {
   "cell_type": "code",
   "execution_count": 32,
   "metadata": {},
   "outputs": [],
   "source": [
    "y = data[\"Survived\"]"
   ]
  },
  {
   "cell_type": "code",
   "execution_count": 60,
   "metadata": {},
   "outputs": [],
   "source": [
    "X = data[[\"Pclass\",\"Sex\",\"SibSp\",\"Parch\",\"Age\",\"Embarked\",]]"
   ]
  },
  {
   "cell_type": "code",
   "execution_count": 61,
   "metadata": {},
   "outputs": [],
   "source": [
    "X_train,X_test,y_train,y_test =train_test_split(X,y,test_size=0.3,random_state=0)"
   ]
  },
  {
   "cell_type": "code",
   "execution_count": 62,
   "metadata": {},
   "outputs": [
    {
     "data": {
      "text/html": [
       "<div>\n",
       "<style scoped>\n",
       "    .dataframe tbody tr th:only-of-type {\n",
       "        vertical-align: middle;\n",
       "    }\n",
       "\n",
       "    .dataframe tbody tr th {\n",
       "        vertical-align: top;\n",
       "    }\n",
       "\n",
       "    .dataframe thead th {\n",
       "        text-align: right;\n",
       "    }\n",
       "</style>\n",
       "<table border=\"1\" class=\"dataframe\">\n",
       "  <thead>\n",
       "    <tr style=\"text-align: right;\">\n",
       "      <th></th>\n",
       "      <th>Pclass</th>\n",
       "      <th>Sex</th>\n",
       "      <th>SibSp</th>\n",
       "      <th>Parch</th>\n",
       "      <th>Age</th>\n",
       "      <th>Embarked</th>\n",
       "    </tr>\n",
       "  </thead>\n",
       "  <tbody>\n",
       "    <tr>\n",
       "      <th>350</th>\n",
       "      <td>1</td>\n",
       "      <td>1</td>\n",
       "      <td>0</td>\n",
       "      <td>0</td>\n",
       "      <td>45.0</td>\n",
       "      <td>2</td>\n",
       "    </tr>\n",
       "    <tr>\n",
       "      <th>124</th>\n",
       "      <td>3</td>\n",
       "      <td>1</td>\n",
       "      <td>1</td>\n",
       "      <td>0</td>\n",
       "      <td>12.0</td>\n",
       "      <td>0</td>\n",
       "    </tr>\n",
       "    <tr>\n",
       "      <th>577</th>\n",
       "      <td>3</td>\n",
       "      <td>0</td>\n",
       "      <td>1</td>\n",
       "      <td>0</td>\n",
       "      <td>45.0</td>\n",
       "      <td>0</td>\n",
       "    </tr>\n",
       "    <tr>\n",
       "      <th>422</th>\n",
       "      <td>3</td>\n",
       "      <td>0</td>\n",
       "      <td>1</td>\n",
       "      <td>1</td>\n",
       "      <td>28.0</td>\n",
       "      <td>2</td>\n",
       "    </tr>\n",
       "    <tr>\n",
       "      <th>118</th>\n",
       "      <td>3</td>\n",
       "      <td>0</td>\n",
       "      <td>4</td>\n",
       "      <td>2</td>\n",
       "      <td>2.0</td>\n",
       "      <td>2</td>\n",
       "    </tr>\n",
       "  </tbody>\n",
       "</table>\n",
       "</div>"
      ],
      "text/plain": [
       "     Pclass  Sex  SibSp  Parch   Age  Embarked\n",
       "350       1    1      0      0  45.0         2\n",
       "124       3    1      1      0  12.0         0\n",
       "577       3    0      1      0  45.0         0\n",
       "422       3    0      1      1  28.0         2\n",
       "118       3    0      4      2   2.0         2"
      ]
     },
     "execution_count": 62,
     "metadata": {},
     "output_type": "execute_result"
    }
   ],
   "source": [
    "X_train.head()"
   ]
  },
  {
   "cell_type": "code",
   "execution_count": 63,
   "metadata": {},
   "outputs": [
    {
     "data": {
      "text/html": [
       "<div>\n",
       "<style scoped>\n",
       "    .dataframe tbody tr th:only-of-type {\n",
       "        vertical-align: middle;\n",
       "    }\n",
       "\n",
       "    .dataframe tbody tr th {\n",
       "        vertical-align: top;\n",
       "    }\n",
       "\n",
       "    .dataframe thead th {\n",
       "        text-align: right;\n",
       "    }\n",
       "</style>\n",
       "<table border=\"1\" class=\"dataframe\">\n",
       "  <thead>\n",
       "    <tr style=\"text-align: right;\">\n",
       "      <th></th>\n",
       "      <th>Pclass</th>\n",
       "      <th>Sex</th>\n",
       "      <th>SibSp</th>\n",
       "      <th>Parch</th>\n",
       "      <th>Age</th>\n",
       "      <th>Embarked</th>\n",
       "    </tr>\n",
       "  </thead>\n",
       "  <tbody>\n",
       "    <tr>\n",
       "      <th>14</th>\n",
       "      <td>3</td>\n",
       "      <td>0</td>\n",
       "      <td>0</td>\n",
       "      <td>0</td>\n",
       "      <td>14.0</td>\n",
       "      <td>2</td>\n",
       "    </tr>\n",
       "    <tr>\n",
       "      <th>158</th>\n",
       "      <td>3</td>\n",
       "      <td>1</td>\n",
       "      <td>8</td>\n",
       "      <td>2</td>\n",
       "      <td>45.0</td>\n",
       "      <td>2</td>\n",
       "    </tr>\n",
       "    <tr>\n",
       "      <th>762</th>\n",
       "      <td>1</td>\n",
       "      <td>0</td>\n",
       "      <td>1</td>\n",
       "      <td>2</td>\n",
       "      <td>36.0</td>\n",
       "      <td>2</td>\n",
       "    </tr>\n",
       "    <tr>\n",
       "      <th>740</th>\n",
       "      <td>1</td>\n",
       "      <td>1</td>\n",
       "      <td>1</td>\n",
       "      <td>0</td>\n",
       "      <td>36.0</td>\n",
       "      <td>2</td>\n",
       "    </tr>\n",
       "    <tr>\n",
       "      <th>482</th>\n",
       "      <td>3</td>\n",
       "      <td>0</td>\n",
       "      <td>0</td>\n",
       "      <td>0</td>\n",
       "      <td>63.0</td>\n",
       "      <td>2</td>\n",
       "    </tr>\n",
       "  </tbody>\n",
       "</table>\n",
       "</div>"
      ],
      "text/plain": [
       "     Pclass  Sex  SibSp  Parch   Age  Embarked\n",
       "14        3    0      0      0  14.0         2\n",
       "158       3    1      8      2  45.0         2\n",
       "762       1    0      1      2  36.0         2\n",
       "740       1    1      1      0  36.0         2\n",
       "482       3    0      0      0  63.0         2"
      ]
     },
     "execution_count": 63,
     "metadata": {},
     "output_type": "execute_result"
    }
   ],
   "source": [
    "X_test.head()"
   ]
  },
  {
   "cell_type": "code",
   "execution_count": 64,
   "metadata": {},
   "outputs": [],
   "source": [
    "knn = neighbors.KNeighborsClassifier(n_neighbors=1)"
   ]
  },
  {
   "cell_type": "code",
   "execution_count": 65,
   "metadata": {},
   "outputs": [
    {
     "data": {
      "text/plain": [
       "0.7153558052434457"
      ]
     },
     "execution_count": 65,
     "metadata": {},
     "output_type": "execute_result"
    }
   ],
   "source": [
    "knn.fit(X_train,y_train).score(X_test,y_test)"
   ]
  },
  {
   "cell_type": "code",
   "execution_count": 66,
   "metadata": {},
   "outputs": [],
   "source": [
    "y_pred =knn.predict(X_test)"
   ]
  },
  {
   "cell_type": "code",
   "execution_count": 67,
   "metadata": {},
   "outputs": [
    {
     "data": {
      "text/plain": [
       "array([[114,  43],\n",
       "       [ 33,  77]], dtype=int64)"
      ]
     },
     "execution_count": 67,
     "metadata": {},
     "output_type": "execute_result"
    }
   ],
   "source": [
    "confusion_matrix(y_test,y_pred)"
   ]
  },
  {
   "cell_type": "code",
   "execution_count": 68,
   "metadata": {},
   "outputs": [
    {
     "name": "stdout",
     "output_type": "stream",
     "text": [
      "  1  71.53558052434457 %\n",
      "  2  72.65917602996255 %\n",
      "  3  72.65917602996255 %\n",
      "  4  72.65917602996255 %\n",
      "  5  72.28464419475655 %\n",
      "  6  69.66292134831461 %\n",
      "  7  70.0374531835206 %\n",
      "  8  70.4119850187266 %\n",
      "  9  71.53558052434457 %\n",
      "  10  69.66292134831461 %\n",
      "  11  71.91011235955057 %\n",
      "  12  70.4119850187266 %\n",
      "  13  70.0374531835206 %\n",
      "  14  70.4119850187266 %\n",
      "  15  71.91011235955057 %\n",
      "  16  71.53558052434457 %\n",
      "  17  71.16104868913857 %\n",
      "  18  69.28838951310861 %\n",
      "  19  70.4119850187266 %\n",
      "  20  69.66292134831461 %\n",
      "  21  68.53932584269663 %\n",
      "  22  67.41573033707866 %\n",
      "  23  69.28838951310861 %\n",
      "  24  66.66666666666666 %\n",
      "  25  68.53932584269663 %\n",
      "  26  65.91760299625467 %\n",
      "  27  66.66666666666666 %\n",
      "  28  65.1685393258427 %\n",
      "  29  65.54307116104869 %\n",
      "  30  65.91760299625467 %\n",
      "  31  66.66666666666666 %\n",
      "  32  65.91760299625467 %\n",
      "  33  67.41573033707866 %\n",
      "  34  66.29213483146067 %\n",
      "  35  65.91760299625467 %\n",
      "  36  64.7940074906367 %\n",
      "  37  65.54307116104869 %\n",
      "  38  63.670411985018724 %\n",
      "  39  65.1685393258427 %\n",
      "  40  63.29588014981273 %\n",
      "  41  64.04494382022472 %\n",
      "  42  62.92134831460674 %\n",
      "  43  63.29588014981273 %\n",
      "  44  62.92134831460674 %\n",
      "  45  63.670411985018724 %\n",
      "  46  62.92134831460674 %\n",
      "  47  62.546816479400746 %\n",
      "  48  61.79775280898876 %\n",
      "  49  62.172284644194754 %\n",
      "  50  61.42322097378277 %\n",
      "  51  61.42322097378277 %\n",
      "  52  61.42322097378277 %\n",
      "  53  61.79775280898876 %\n",
      "  54  61.04868913857678 %\n",
      "  55  61.42322097378277 %\n",
      "  56  61.04868913857678 %\n",
      "  57  61.04868913857678 %\n",
      "  58  60.67415730337079 %\n",
      "  59  61.79775280898876 %\n",
      "  60  61.04868913857678 %\n",
      "  61  61.04868913857678 %\n",
      "  62  60.67415730337079 %\n",
      "  63  61.04868913857678 %\n",
      "  64  61.04868913857678 %\n",
      "  65  60.67415730337079 %\n",
      "  66  60.67415730337079 %\n",
      "  67  60.67415730337079 %\n",
      "  68  61.04868913857678 %\n",
      "  69  60.67415730337079 %\n",
      "  70  60.67415730337079 %\n",
      "  71  60.67415730337079 %\n",
      "  72  60.67415730337079 %\n",
      "  73  60.67415730337079 %\n",
      "  74  60.67415730337079 %\n",
      "  75  61.04868913857678 %\n",
      "  76  60.67415730337079 %\n",
      "  77  60.67415730337079 %\n",
      "  78  60.67415730337079 %\n",
      "  79  60.67415730337079 %\n",
      "  80  60.67415730337079 %\n",
      "  81  60.67415730337079 %\n",
      "  82  60.67415730337079 %\n",
      "  83  60.67415730337079 %\n",
      "  84  60.67415730337079 %\n",
      "  85  60.67415730337079 %\n",
      "  86  60.67415730337079 %\n",
      "  87  60.67415730337079 %\n",
      "  88  60.67415730337079 %\n",
      "  89  60.67415730337079 %\n",
      "  90  61.04868913857678 %\n",
      "  91  60.67415730337079 %\n",
      "  92  59.55056179775281 %\n",
      "  93  59.55056179775281 %\n",
      "  94  59.55056179775281 %\n",
      "  95  60.67415730337079 %\n",
      "  96  59.55056179775281 %\n",
      "  97  60.2996254681648 %\n",
      "  98  59.55056179775281 %\n",
      "  99  60.2996254681648 %\n",
      "  100  58.80149812734082 %\n",
      "  101  58.80149812734082 %\n",
      "  102  58.80149812734082 %\n",
      "  103  59.55056179775281 %\n",
      "  104  59.925093632958806 %\n",
      "  105  60.2996254681648 %\n",
      "  106  59.55056179775281 %\n",
      "  107  59.925093632958806 %\n",
      "  108  59.55056179775281 %\n",
      "  109  59.55056179775281 %\n",
      "  110  58.80149812734082 %\n",
      "  111  58.80149812734082 %\n",
      "  112  58.80149812734082 %\n",
      "  113  58.80149812734082 %\n",
      "  114  58.80149812734082 %\n",
      "  115  58.80149812734082 %\n",
      "  116  58.80149812734082 %\n",
      "  117  58.80149812734082 %\n",
      "  118  58.80149812734082 %\n",
      "  119  58.80149812734082 %\n",
      "  120  58.80149812734082 %\n",
      "  121  58.80149812734082 %\n",
      "  122  58.80149812734082 %\n",
      "  123  58.80149812734082 %\n",
      "  124  58.80149812734082 %\n",
      "  125  58.80149812734082 %\n",
      "  126  58.80149812734082 %\n",
      "  127  58.80149812734082 %\n",
      "  128  58.80149812734082 %\n",
      "  129  58.80149812734082 %\n",
      "  130  58.80149812734082 %\n",
      "  131  58.80149812734082 %\n",
      "  132  58.80149812734082 %\n",
      "  133  58.80149812734082 %\n",
      "  134  58.80149812734082 %\n",
      "  135  58.80149812734082 %\n",
      "  136  58.80149812734082 %\n",
      "  137  58.80149812734082 %\n",
      "  138  58.80149812734082 %\n",
      "  139  58.80149812734082 %\n",
      "  140  58.80149812734082 %\n",
      "  141  58.80149812734082 %\n",
      "  142  58.80149812734082 %\n",
      "  143  58.80149812734082 %\n",
      "  144  58.80149812734082 %\n",
      "  145  58.80149812734082 %\n",
      "  146  58.80149812734082 %\n",
      "  147  58.80149812734082 %\n",
      "  148  58.80149812734082 %\n",
      "  149  58.80149812734082 %\n",
      "  150  58.80149812734082 %\n",
      "  151  58.80149812734082 %\n",
      "  152  58.80149812734082 %\n",
      "  153  58.80149812734082 %\n",
      "  154  58.80149812734082 %\n",
      "  155  58.80149812734082 %\n",
      "  156  58.80149812734082 %\n",
      "  157  58.80149812734082 %\n",
      "  158  58.80149812734082 %\n",
      "  159  58.80149812734082 %\n",
      "  160  58.80149812734082 %\n",
      "  161  58.80149812734082 %\n",
      "  162  58.80149812734082 %\n",
      "  163  58.80149812734082 %\n",
      "  164  58.80149812734082 %\n",
      "  165  58.80149812734082 %\n",
      "  166  58.80149812734082 %\n",
      "  167  58.80149812734082 %\n",
      "  168  58.80149812734082 %\n",
      "  169  58.80149812734082 %\n",
      "  170  58.80149812734082 %\n",
      "  171  58.80149812734082 %\n",
      "  172  58.80149812734082 %\n",
      "  173  58.80149812734082 %\n",
      "  174  58.80149812734082 %\n",
      "  175  58.80149812734082 %\n",
      "  176  58.80149812734082 %\n",
      "  177  58.80149812734082 %\n",
      "  178  58.80149812734082 %\n",
      "  179  58.80149812734082 %\n",
      "  180  58.80149812734082 %\n",
      "  181  58.80149812734082 %\n",
      "  182  58.80149812734082 %\n",
      "  183  58.80149812734082 %\n",
      "  184  58.80149812734082 %\n",
      "  185  58.80149812734082 %\n",
      "  186  58.80149812734082 %\n",
      "  187  58.80149812734082 %\n",
      "  188  58.80149812734082 %\n",
      "  189  58.80149812734082 %\n",
      "  190  58.80149812734082 %\n",
      "  191  58.80149812734082 %\n",
      "  192  58.80149812734082 %\n",
      "  193  58.80149812734082 %\n",
      "  194  58.80149812734082 %\n",
      "  195  58.80149812734082 %\n",
      "  196  58.80149812734082 %\n",
      "  197  58.80149812734082 %\n",
      "  198  58.80149812734082 %\n",
      "  199  58.80149812734082 %\n",
      "  200  58.80149812734082 %\n",
      "  201  58.80149812734082 %\n",
      "  202  58.80149812734082 %\n",
      "  203  58.80149812734082 %\n",
      "  204  58.80149812734082 %\n",
      "  205  58.80149812734082 %\n",
      "  206  58.80149812734082 %\n",
      "  207  58.80149812734082 %\n",
      "  208  58.80149812734082 %\n",
      "  209  58.80149812734082 %\n",
      "  210  58.80149812734082 %\n",
      "  211  58.80149812734082 %\n",
      "  212  58.80149812734082 %\n",
      "  213  58.80149812734082 %\n",
      "  214  58.80149812734082 %\n",
      "  215  58.80149812734082 %\n",
      "  216  58.80149812734082 %\n",
      "  217  58.80149812734082 %\n",
      "  218  58.80149812734082 %\n",
      "  219  58.80149812734082 %\n",
      "  220  58.80149812734082 %\n",
      "  221  58.80149812734082 %\n",
      "  222  58.80149812734082 %\n",
      "  223  58.80149812734082 %\n",
      "  224  58.80149812734082 %\n",
      "  225  58.80149812734082 %\n",
      "  226  58.80149812734082 %\n",
      "  227  58.80149812734082 %\n",
      "  228  58.80149812734082 %\n",
      "  229  58.80149812734082 %\n",
      "  230  58.80149812734082 %\n",
      "  231  58.80149812734082 %\n",
      "  232  58.80149812734082 %\n",
      "  233  58.80149812734082 %\n",
      "  234  58.80149812734082 %\n",
      "  235  58.80149812734082 %\n",
      "  236  58.80149812734082 %\n",
      "  237  58.80149812734082 %\n",
      "  238  58.80149812734082 %\n",
      "  239  58.80149812734082 %\n",
      "  240  58.80149812734082 %\n",
      "  241  58.80149812734082 %\n",
      "  242  58.80149812734082 %\n",
      "  243  58.80149812734082 %\n",
      "  244  58.80149812734082 %\n",
      "  245  58.80149812734082 %\n",
      "  246  58.80149812734082 %\n",
      "  247  58.80149812734082 %\n",
      "  248  58.80149812734082 %\n",
      "  249  58.80149812734082 %\n",
      "  250  58.80149812734082 %\n",
      "  251  58.80149812734082 %\n",
      "  252  58.80149812734082 %\n",
      "  253  58.80149812734082 %\n",
      "  254  58.80149812734082 %\n",
      "  255  58.80149812734082 %\n",
      "  256  58.80149812734082 %\n",
      "  257  58.80149812734082 %\n",
      "  258  58.80149812734082 %\n",
      "  259  58.80149812734082 %\n",
      "  260  58.80149812734082 %\n",
      "  261  58.80149812734082 %\n",
      "  262  58.80149812734082 %\n",
      "  263  58.80149812734082 %\n",
      "  264  58.80149812734082 %\n",
      "  265  58.80149812734082 %\n",
      "  266  58.80149812734082 %\n",
      "  267  58.80149812734082 %\n"
     ]
    }
   ],
   "source": [
    "for i in range (1,268):\n",
    "    knn = neighbors.KNeighborsClassifier(n_neighbors=i)\n",
    "    knn.fit(X_train,y_train).score(X_test,y_test)\n",
    "    print(\" \",i,\"\",(knn.score(X_test,y_test))*100,\"%\")"
   ]
  },
  {
   "cell_type": "code",
   "execution_count": null,
   "metadata": {},
   "outputs": [],
   "source": []
  },
  {
   "cell_type": "code",
   "execution_count": null,
   "metadata": {},
   "outputs": [],
   "source": []
  },
  {
   "cell_type": "code",
   "execution_count": null,
   "metadata": {},
   "outputs": [],
   "source": []
  },
  {
   "cell_type": "markdown",
   "metadata": {},
   "source": [
    "# SVM"
   ]
  },
  {
   "cell_type": "code",
   "execution_count": 69,
   "metadata": {},
   "outputs": [],
   "source": [
    "from sklearn import svm"
   ]
  },
  {
   "cell_type": "code",
   "execution_count": 75,
   "metadata": {},
   "outputs": [],
   "source": [
    "def SVM (X,y):\n",
    "    X_train,X_test,y_train,y_test = train_test_split(X,y,test_size=0.3,random_state=0)\n",
    "    clf = svm.SVC(gamma=0.01,C=100)\n",
    "    clf.fit(X_train,y_train)\n",
    "    y_pred = clf.predict(X_test)\n",
    "    a = accuracy_score(y_test,y_pred,normalize=True)\n",
    "    b = confusion_matrix(y_test,y_pred)\n",
    "    return a,b"
   ]
  },
  {
   "cell_type": "code",
   "execution_count": 76,
   "metadata": {},
   "outputs": [],
   "source": [
    "y1 = data[\"Survived\"]"
   ]
  },
  {
   "cell_type": "code",
   "execution_count": 77,
   "metadata": {},
   "outputs": [],
   "source": [
    "X1 = data[[\"Pclass\",\"Sex\",\"SibSp\",\"Parch\",\"Embarked\"]]"
   ]
  },
  {
   "cell_type": "code",
   "execution_count": 78,
   "metadata": {},
   "outputs": [
    {
     "data": {
      "text/plain": [
       "(0.7790262172284644,\n",
       " array([[135,  22],\n",
       "        [ 37,  73]], dtype=int64))"
      ]
     },
     "execution_count": 78,
     "metadata": {},
     "output_type": "execute_result"
    }
   ],
   "source": [
    "SVM(X1,y1)"
   ]
  },
  {
   "cell_type": "code",
   "execution_count": 79,
   "metadata": {},
   "outputs": [],
   "source": [
    "y2 = data[\"Pclass\"]"
   ]
  },
  {
   "cell_type": "code",
   "execution_count": 80,
   "metadata": {},
   "outputs": [],
   "source": [
    "X2 = data[[\"Survived\",\"Sex\",\"SibSp\",\"Parch\",\"Embarked\"]]"
   ]
  },
  {
   "cell_type": "code",
   "execution_count": 81,
   "metadata": {},
   "outputs": [
    {
     "data": {
      "text/plain": [
       "(0.5730337078651685,\n",
       " array([[ 35,  10,  25],\n",
       "        [ 16,   9,  24],\n",
       "        [ 33,   6, 109]], dtype=int64))"
      ]
     },
     "execution_count": 81,
     "metadata": {},
     "output_type": "execute_result"
    }
   ],
   "source": [
    "SVM(X2,y2)"
   ]
  },
  {
   "cell_type": "code",
   "execution_count": 82,
   "metadata": {},
   "outputs": [],
   "source": [
    "y3 = data[\"Sex\"]"
   ]
  },
  {
   "cell_type": "code",
   "execution_count": 83,
   "metadata": {},
   "outputs": [],
   "source": [
    "X3 = data[[\"Survived\",\"Pclass\",\"SibSp\",\"Parch\",\"Embarked\"]]"
   ]
  },
  {
   "cell_type": "code",
   "execution_count": 84,
   "metadata": {},
   "outputs": [
    {
     "data": {
      "text/plain": [
       "(0.7640449438202247,\n",
       " array([[ 74,  24],\n",
       "        [ 39, 130]], dtype=int64))"
      ]
     },
     "execution_count": 84,
     "metadata": {},
     "output_type": "execute_result"
    }
   ],
   "source": [
    "SVM(X3,y3)"
   ]
  },
  {
   "cell_type": "code",
   "execution_count": 85,
   "metadata": {},
   "outputs": [],
   "source": [
    "y3 = data[\"SibSp\"]"
   ]
  },
  {
   "cell_type": "code",
   "execution_count": 86,
   "metadata": {},
   "outputs": [],
   "source": [
    "X3 = data[[\"Survived\",\"Pclass\",\"Sex\",\"Parch\",\"Embarked\"]]"
   ]
  },
  {
   "cell_type": "code",
   "execution_count": 87,
   "metadata": {},
   "outputs": [
    {
     "data": {
      "text/plain": [
       "(0.6966292134831461,\n",
       " array([[165,  17,   0,   0,   0,   0,   0],\n",
       "        [ 44,  21,   0,   0,   0,   0,   0],\n",
       "        [  8,   0,   0,   0,   0,   0,   0],\n",
       "        [  1,   6,   0,   0,   0,   0,   0],\n",
       "        [  0,   2,   0,   0,   0,   0,   0],\n",
       "        [  0,   1,   0,   0,   0,   0,   0],\n",
       "        [  0,   2,   0,   0,   0,   0,   0]], dtype=int64))"
      ]
     },
     "execution_count": 87,
     "metadata": {},
     "output_type": "execute_result"
    }
   ],
   "source": [
    "SVM(X3,y3)"
   ]
  },
  {
   "cell_type": "code",
   "execution_count": 88,
   "metadata": {},
   "outputs": [],
   "source": [
    "y4 = data[\"Parch\"]"
   ]
  },
  {
   "cell_type": "code",
   "execution_count": 89,
   "metadata": {},
   "outputs": [],
   "source": [
    "X4 = data[[\"Survived\",\"Pclass\",\"Sex\",\"SibSp\",\"Embarked\"]]"
   ]
  },
  {
   "cell_type": "code",
   "execution_count": 90,
   "metadata": {},
   "outputs": [
    {
     "data": {
      "text/plain": [
       "(0.7602996254681648,\n",
       " array([[197,   0,   1,   0,   0],\n",
       "        [ 37,   3,   0,   0,   0],\n",
       "        [ 19,   5,   3,   0,   0],\n",
       "        [  1,   0,   0,   0,   0],\n",
       "        [  1,   0,   0,   0,   0]], dtype=int64))"
      ]
     },
     "execution_count": 90,
     "metadata": {},
     "output_type": "execute_result"
    }
   ],
   "source": [
    "SVM(X4,y4)"
   ]
  },
  {
   "cell_type": "code",
   "execution_count": 91,
   "metadata": {},
   "outputs": [],
   "source": [
    "y5 = data[\"Embarked\"]"
   ]
  },
  {
   "cell_type": "code",
   "execution_count": 92,
   "metadata": {},
   "outputs": [],
   "source": [
    "X5 = data[[\"Survived\",\"Pclass\",\"Sex\",\"SibSp\",\"Parch\"]]"
   ]
  },
  {
   "cell_type": "code",
   "execution_count": 93,
   "metadata": {},
   "outputs": [
    {
     "data": {
      "text/plain": [
       "(0.7340823970037453,\n",
       " array([[  0,   0,  49],\n",
       "        [  0,   0,  22],\n",
       "        [  0,   0, 196]], dtype=int64))"
      ]
     },
     "execution_count": 93,
     "metadata": {},
     "output_type": "execute_result"
    }
   ],
   "source": [
    "SVM(X5,y5)"
   ]
  },
  {
   "cell_type": "code",
   "execution_count": null,
   "metadata": {},
   "outputs": [],
   "source": []
  }
 ],
 "metadata": {
  "kernelspec": {
   "display_name": "Python 3",
   "language": "python",
   "name": "python3"
  },
  "language_info": {
   "codemirror_mode": {
    "name": "ipython",
    "version": 3
   },
   "file_extension": ".py",
   "mimetype": "text/x-python",
   "name": "python",
   "nbconvert_exporter": "python",
   "pygments_lexer": "ipython3",
   "version": "3.7.6"
  }
 },
 "nbformat": 4,
 "nbformat_minor": 4
}
