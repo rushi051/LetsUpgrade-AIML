{
 "cells": [
  {
   "cell_type": "code",
   "execution_count": 1,
   "metadata": {},
   "outputs": [],
   "source": [
    "import numpy as np\n",
    "import pandas as pd \n",
    "import tweepy \n",
    "import json\n",
    "from tweepy import OAuthHandler"
   ]
  },
  {
   "cell_type": "code",
   "execution_count": 2,
   "metadata": {},
   "outputs": [],
   "source": [
    "consumer_key =\"ATVQzACbPmvnh59nU6ZmYSetR\"\n",
    "consumer_secret=\"fM7uobiA2jDo4kUQ8yrPQ3DrhphA1dO2keOE3b0dlGXjmBKLbM\"\n",
    "access_token=\"1281825857032474625-5vcAq7w4h1MGlMeDL0LUTY5YlRVem4\"\n",
    "access_token_secret = \"yf3U7tlnbmtDQzvkQcoAxpuLi07lPipZtJvelSMuKwVhn\""
   ]
  },
  {
   "cell_type": "code",
   "execution_count": 3,
   "metadata": {},
   "outputs": [],
   "source": [
    "auth = tweepy.OAuthHandler(consumer_key,consumer_secret)\n",
    "auth.set_access_token(access_token,access_token_secret)\n",
    "api = tweepy.API(auth)"
   ]
  },
  {
   "cell_type": "code",
   "execution_count": 4,
   "metadata": {},
   "outputs": [],
   "source": [
    "query = \"rohit sharma is unfit \""
   ]
  },
  {
   "cell_type": "code",
   "execution_count": 5,
   "metadata": {},
   "outputs": [
    {
     "name": "stdout",
     "output_type": "stream",
     "text": [
      "Status(_api=<tweepy.api.API object at 0x000001198EBC4E08>, _json={'created_at': 'Thu Nov 12 03:37:58 +0000 2020', 'id': 1326730934092066816, 'id_str': '1326730934092066816', 'full_text': '@imVkohli @BCCI Virat is unfit as captain for India team, especially in white ball cricket. It is better time to change captaincy, Virat Kohli replacement to Rohit Sharma. He has  a better experience player in al three formats. I think, he is going to be one of the best captain in Indian Team.', 'truncated': False, 'display_text_range': [16, 294], 'entities': {'hashtags': [], 'symbols': [], 'user_mentions': [{'screen_name': 'imVkohli', 'name': 'Virat Kohli', 'id': 71201743, 'id_str': '71201743', 'indices': [0, 9]}, {'screen_name': 'BCCI', 'name': 'BCCI', 'id': 185142711, 'id_str': '185142711', 'indices': [10, 15]}], 'urls': []}, 'metadata': {'iso_language_code': 'en', 'result_type': 'recent'}, 'source': '<a href=\"http://twitter.com/download/android\" rel=\"nofollow\">Twitter for Android</a>', 'in_reply_to_status_id': 1326564190711148549, 'in_reply_to_status_id_str': '1326564190711148549', 'in_reply_to_user_id': 71201743, 'in_reply_to_user_id_str': '71201743', 'in_reply_to_screen_name': 'imVkohli', 'user': {'id': 1225609306046750721, 'id_str': '1225609306046750721', 'name': 'Praveen Kumar', 'screen_name': 'PraveenKumarme', 'location': '', 'description': '', 'url': None, 'entities': {'description': {'urls': []}}, 'protected': False, 'followers_count': 0, 'friends_count': 47, 'listed_count': 0, 'created_at': 'Fri Feb 07 02:37:01 +0000 2020', 'favourites_count': 3, 'utc_offset': None, 'time_zone': None, 'geo_enabled': False, 'verified': False, 'statuses_count': 4, 'lang': None, 'contributors_enabled': False, 'is_translator': False, 'is_translation_enabled': False, 'profile_background_color': 'F5F8FA', 'profile_background_image_url': None, 'profile_background_image_url_https': None, 'profile_background_tile': False, 'profile_image_url': 'http://pbs.twimg.com/profile_images/1225609480278200321/zdKky4a9_normal.jpg', 'profile_image_url_https': 'https://pbs.twimg.com/profile_images/1225609480278200321/zdKky4a9_normal.jpg', 'profile_link_color': '1DA1F2', 'profile_sidebar_border_color': 'C0DEED', 'profile_sidebar_fill_color': 'DDEEF6', 'profile_text_color': '333333', 'profile_use_background_image': True, 'has_extended_profile': False, 'default_profile': True, 'default_profile_image': False, 'following': False, 'follow_request_sent': False, 'notifications': False, 'translator_type': 'none'}, 'geo': None, 'coordinates': None, 'place': None, 'contributors': None, 'is_quote_status': False, 'retweet_count': 0, 'favorite_count': 24, 'favorited': False, 'retweeted': False, 'lang': 'en'}, created_at=datetime.datetime(2020, 11, 12, 3, 37, 58), id=1326730934092066816, id_str='1326730934092066816', full_text='@imVkohli @BCCI Virat is unfit as captain for India team, especially in white ball cricket. It is better time to change captaincy, Virat Kohli replacement to Rohit Sharma. He has  a better experience player in al three formats. I think, he is going to be one of the best captain in Indian Team.', truncated=False, display_text_range=[16, 294], entities={'hashtags': [], 'symbols': [], 'user_mentions': [{'screen_name': 'imVkohli', 'name': 'Virat Kohli', 'id': 71201743, 'id_str': '71201743', 'indices': [0, 9]}, {'screen_name': 'BCCI', 'name': 'BCCI', 'id': 185142711, 'id_str': '185142711', 'indices': [10, 15]}], 'urls': []}, metadata={'iso_language_code': 'en', 'result_type': 'recent'}, source='Twitter for Android', source_url='http://twitter.com/download/android', in_reply_to_status_id=1326564190711148549, in_reply_to_status_id_str='1326564190711148549', in_reply_to_user_id=71201743, in_reply_to_user_id_str='71201743', in_reply_to_screen_name='imVkohli', author=User(_api=<tweepy.api.API object at 0x000001198EBC4E08>, _json={'id': 1225609306046750721, 'id_str': '1225609306046750721', 'name': 'Praveen Kumar', 'screen_name': 'PraveenKumarme', 'location': '', 'description': '', 'url': None, 'entities': {'description': {'urls': []}}, 'protected': False, 'followers_count': 0, 'friends_count': 47, 'listed_count': 0, 'created_at': 'Fri Feb 07 02:37:01 +0000 2020', 'favourites_count': 3, 'utc_offset': None, 'time_zone': None, 'geo_enabled': False, 'verified': False, 'statuses_count': 4, 'lang': None, 'contributors_enabled': False, 'is_translator': False, 'is_translation_enabled': False, 'profile_background_color': 'F5F8FA', 'profile_background_image_url': None, 'profile_background_image_url_https': None, 'profile_background_tile': False, 'profile_image_url': 'http://pbs.twimg.com/profile_images/1225609480278200321/zdKky4a9_normal.jpg', 'profile_image_url_https': 'https://pbs.twimg.com/profile_images/1225609480278200321/zdKky4a9_normal.jpg', 'profile_link_color': '1DA1F2', 'profile_sidebar_border_color': 'C0DEED', 'profile_sidebar_fill_color': 'DDEEF6', 'profile_text_color': '333333', 'profile_use_background_image': True, 'has_extended_profile': False, 'default_profile': True, 'default_profile_image': False, 'following': False, 'follow_request_sent': False, 'notifications': False, 'translator_type': 'none'}, id=1225609306046750721, id_str='1225609306046750721', name='Praveen Kumar', screen_name='PraveenKumarme', location='', description='', url=None, entities={'description': {'urls': []}}, protected=False, followers_count=0, friends_count=47, listed_count=0, created_at=datetime.datetime(2020, 2, 7, 2, 37, 1), favourites_count=3, utc_offset=None, time_zone=None, geo_enabled=False, verified=False, statuses_count=4, lang=None, contributors_enabled=False, is_translator=False, is_translation_enabled=False, profile_background_color='F5F8FA', profile_background_image_url=None, profile_background_image_url_https=None, profile_background_tile=False, profile_image_url='http://pbs.twimg.com/profile_images/1225609480278200321/zdKky4a9_normal.jpg', profile_image_url_https='https://pbs.twimg.com/profile_images/1225609480278200321/zdKky4a9_normal.jpg', profile_link_color='1DA1F2', profile_sidebar_border_color='C0DEED', profile_sidebar_fill_color='DDEEF6', profile_text_color='333333', profile_use_background_image=True, has_extended_profile=False, default_profile=True, default_profile_image=False, following=False, follow_request_sent=False, notifications=False, translator_type='none'), user=User(_api=<tweepy.api.API object at 0x000001198EBC4E08>, _json={'id': 1225609306046750721, 'id_str': '1225609306046750721', 'name': 'Praveen Kumar', 'screen_name': 'PraveenKumarme', 'location': '', 'description': '', 'url': None, 'entities': {'description': {'urls': []}}, 'protected': False, 'followers_count': 0, 'friends_count': 47, 'listed_count': 0, 'created_at': 'Fri Feb 07 02:37:01 +0000 2020', 'favourites_count': 3, 'utc_offset': None, 'time_zone': None, 'geo_enabled': False, 'verified': False, 'statuses_count': 4, 'lang': None, 'contributors_enabled': False, 'is_translator': False, 'is_translation_enabled': False, 'profile_background_color': 'F5F8FA', 'profile_background_image_url': None, 'profile_background_image_url_https': None, 'profile_background_tile': False, 'profile_image_url': 'http://pbs.twimg.com/profile_images/1225609480278200321/zdKky4a9_normal.jpg', 'profile_image_url_https': 'https://pbs.twimg.com/profile_images/1225609480278200321/zdKky4a9_normal.jpg', 'profile_link_color': '1DA1F2', 'profile_sidebar_border_color': 'C0DEED', 'profile_sidebar_fill_color': 'DDEEF6', 'profile_text_color': '333333', 'profile_use_background_image': True, 'has_extended_profile': False, 'default_profile': True, 'default_profile_image': False, 'following': False, 'follow_request_sent': False, 'notifications': False, 'translator_type': 'none'}, id=1225609306046750721, id_str='1225609306046750721', name='Praveen Kumar', screen_name='PraveenKumarme', location='', description='', url=None, entities={'description': {'urls': []}}, protected=False, followers_count=0, friends_count=47, listed_count=0, created_at=datetime.datetime(2020, 2, 7, 2, 37, 1), favourites_count=3, utc_offset=None, time_zone=None, geo_enabled=False, verified=False, statuses_count=4, lang=None, contributors_enabled=False, is_translator=False, is_translation_enabled=False, profile_background_color='F5F8FA', profile_background_image_url=None, profile_background_image_url_https=None, profile_background_tile=False, profile_image_url='http://pbs.twimg.com/profile_images/1225609480278200321/zdKky4a9_normal.jpg', profile_image_url_https='https://pbs.twimg.com/profile_images/1225609480278200321/zdKky4a9_normal.jpg', profile_link_color='1DA1F2', profile_sidebar_border_color='C0DEED', profile_sidebar_fill_color='DDEEF6', profile_text_color='333333', profile_use_background_image=True, has_extended_profile=False, default_profile=True, default_profile_image=False, following=False, follow_request_sent=False, notifications=False, translator_type='none'), geo=None, coordinates=None, place=None, contributors=None, is_quote_status=False, retweet_count=0, favorite_count=24, favorited=False, retweeted=False, lang='en') \n",
      "\n",
      "...........................................................\n",
      "\n",
      "Status(_api=<tweepy.api.API object at 0x000001198EBC4E08>, _json={'created_at': 'Wed Nov 11 01:19:34 +0000 2020', 'id': 1326333713383268353, 'id_str': '1326333713383268353', 'full_text': \"Rohit Sharma is our 2nd best Limited overs Batsman.\\n\\nAnd he is fit and playing.\\n\\nThen why not he is going to Australia .\\n\\nUnfit or injured Batsman can't hit pull or Hook shots properly\", 'truncated': False, 'display_text_range': [0, 184], 'entities': {'hashtags': [], 'symbols': [], 'user_mentions': [], 'urls': []}, 'metadata': {'iso_language_code': 'en', 'result_type': 'recent'}, 'source': '<a href=\"http://twitter.com/download/android\" rel=\"nofollow\">Twitter for Android</a>', 'in_reply_to_status_id': None, 'in_reply_to_status_id_str': None, 'in_reply_to_user_id': None, 'in_reply_to_user_id_str': None, 'in_reply_to_screen_name': None, 'user': {'id': 1056751255299608576, 'id_str': '1056751255299608576', 'name': 'Dev Singh', 'screen_name': 'devsing303', 'location': 'Prithvi', 'description': '#Smashemsixer', 'url': None, 'entities': {'description': {'urls': []}}, 'protected': False, 'followers_count': 1456, 'friends_count': 1336, 'listed_count': 1, 'created_at': 'Mon Oct 29 03:35:07 +0000 2018', 'favourites_count': 184652, 'utc_offset': None, 'time_zone': None, 'geo_enabled': False, 'verified': False, 'statuses_count': 85685, 'lang': None, 'contributors_enabled': False, 'is_translator': False, 'is_translation_enabled': False, 'profile_background_color': 'F5F8FA', 'profile_background_image_url': None, 'profile_background_image_url_https': None, 'profile_background_tile': False, 'profile_image_url': 'http://pbs.twimg.com/profile_images/1328361571672702977/KIPVGJCS_normal.jpg', 'profile_image_url_https': 'https://pbs.twimg.com/profile_images/1328361571672702977/KIPVGJCS_normal.jpg', 'profile_banner_url': 'https://pbs.twimg.com/profile_banners/1056751255299608576/1603505981', 'profile_link_color': '1DA1F2', 'profile_sidebar_border_color': 'C0DEED', 'profile_sidebar_fill_color': 'DDEEF6', 'profile_text_color': '333333', 'profile_use_background_image': True, 'has_extended_profile': False, 'default_profile': True, 'default_profile_image': False, 'following': False, 'follow_request_sent': False, 'notifications': False, 'translator_type': 'none'}, 'geo': None, 'coordinates': None, 'place': None, 'contributors': None, 'is_quote_status': False, 'retweet_count': 0, 'favorite_count': 4, 'favorited': False, 'retweeted': False, 'lang': 'en'}, created_at=datetime.datetime(2020, 11, 11, 1, 19, 34), id=1326333713383268353, id_str='1326333713383268353', full_text=\"Rohit Sharma is our 2nd best Limited overs Batsman.\\n\\nAnd he is fit and playing.\\n\\nThen why not he is going to Australia .\\n\\nUnfit or injured Batsman can't hit pull or Hook shots properly\", truncated=False, display_text_range=[0, 184], entities={'hashtags': [], 'symbols': [], 'user_mentions': [], 'urls': []}, metadata={'iso_language_code': 'en', 'result_type': 'recent'}, source='Twitter for Android', source_url='http://twitter.com/download/android', in_reply_to_status_id=None, in_reply_to_status_id_str=None, in_reply_to_user_id=None, in_reply_to_user_id_str=None, in_reply_to_screen_name=None, author=User(_api=<tweepy.api.API object at 0x000001198EBC4E08>, _json={'id': 1056751255299608576, 'id_str': '1056751255299608576', 'name': 'Dev Singh', 'screen_name': 'devsing303', 'location': 'Prithvi', 'description': '#Smashemsixer', 'url': None, 'entities': {'description': {'urls': []}}, 'protected': False, 'followers_count': 1456, 'friends_count': 1336, 'listed_count': 1, 'created_at': 'Mon Oct 29 03:35:07 +0000 2018', 'favourites_count': 184652, 'utc_offset': None, 'time_zone': None, 'geo_enabled': False, 'verified': False, 'statuses_count': 85685, 'lang': None, 'contributors_enabled': False, 'is_translator': False, 'is_translation_enabled': False, 'profile_background_color': 'F5F8FA', 'profile_background_image_url': None, 'profile_background_image_url_https': None, 'profile_background_tile': False, 'profile_image_url': 'http://pbs.twimg.com/profile_images/1328361571672702977/KIPVGJCS_normal.jpg', 'profile_image_url_https': 'https://pbs.twimg.com/profile_images/1328361571672702977/KIPVGJCS_normal.jpg', 'profile_banner_url': 'https://pbs.twimg.com/profile_banners/1056751255299608576/1603505981', 'profile_link_color': '1DA1F2', 'profile_sidebar_border_color': 'C0DEED', 'profile_sidebar_fill_color': 'DDEEF6', 'profile_text_color': '333333', 'profile_use_background_image': True, 'has_extended_profile': False, 'default_profile': True, 'default_profile_image': False, 'following': False, 'follow_request_sent': False, 'notifications': False, 'translator_type': 'none'}, id=1056751255299608576, id_str='1056751255299608576', name='Dev Singh', screen_name='devsing303', location='Prithvi', description='#Smashemsixer', url=None, entities={'description': {'urls': []}}, protected=False, followers_count=1456, friends_count=1336, listed_count=1, created_at=datetime.datetime(2018, 10, 29, 3, 35, 7), favourites_count=184652, utc_offset=None, time_zone=None, geo_enabled=False, verified=False, statuses_count=85685, lang=None, contributors_enabled=False, is_translator=False, is_translation_enabled=False, profile_background_color='F5F8FA', profile_background_image_url=None, profile_background_image_url_https=None, profile_background_tile=False, profile_image_url='http://pbs.twimg.com/profile_images/1328361571672702977/KIPVGJCS_normal.jpg', profile_image_url_https='https://pbs.twimg.com/profile_images/1328361571672702977/KIPVGJCS_normal.jpg', profile_banner_url='https://pbs.twimg.com/profile_banners/1056751255299608576/1603505981', profile_link_color='1DA1F2', profile_sidebar_border_color='C0DEED', profile_sidebar_fill_color='DDEEF6', profile_text_color='333333', profile_use_background_image=True, has_extended_profile=False, default_profile=True, default_profile_image=False, following=False, follow_request_sent=False, notifications=False, translator_type='none'), user=User(_api=<tweepy.api.API object at 0x000001198EBC4E08>, _json={'id': 1056751255299608576, 'id_str': '1056751255299608576', 'name': 'Dev Singh', 'screen_name': 'devsing303', 'location': 'Prithvi', 'description': '#Smashemsixer', 'url': None, 'entities': {'description': {'urls': []}}, 'protected': False, 'followers_count': 1456, 'friends_count': 1336, 'listed_count': 1, 'created_at': 'Mon Oct 29 03:35:07 +0000 2018', 'favourites_count': 184652, 'utc_offset': None, 'time_zone': None, 'geo_enabled': False, 'verified': False, 'statuses_count': 85685, 'lang': None, 'contributors_enabled': False, 'is_translator': False, 'is_translation_enabled': False, 'profile_background_color': 'F5F8FA', 'profile_background_image_url': None, 'profile_background_image_url_https': None, 'profile_background_tile': False, 'profile_image_url': 'http://pbs.twimg.com/profile_images/1328361571672702977/KIPVGJCS_normal.jpg', 'profile_image_url_https': 'https://pbs.twimg.com/profile_images/1328361571672702977/KIPVGJCS_normal.jpg', 'profile_banner_url': 'https://pbs.twimg.com/profile_banners/1056751255299608576/1603505981', 'profile_link_color': '1DA1F2', 'profile_sidebar_border_color': 'C0DEED', 'profile_sidebar_fill_color': 'DDEEF6', 'profile_text_color': '333333', 'profile_use_background_image': True, 'has_extended_profile': False, 'default_profile': True, 'default_profile_image': False, 'following': False, 'follow_request_sent': False, 'notifications': False, 'translator_type': 'none'}, id=1056751255299608576, id_str='1056751255299608576', name='Dev Singh', screen_name='devsing303', location='Prithvi', description='#Smashemsixer', url=None, entities={'description': {'urls': []}}, protected=False, followers_count=1456, friends_count=1336, listed_count=1, created_at=datetime.datetime(2018, 10, 29, 3, 35, 7), favourites_count=184652, utc_offset=None, time_zone=None, geo_enabled=False, verified=False, statuses_count=85685, lang=None, contributors_enabled=False, is_translator=False, is_translation_enabled=False, profile_background_color='F5F8FA', profile_background_image_url=None, profile_background_image_url_https=None, profile_background_tile=False, profile_image_url='http://pbs.twimg.com/profile_images/1328361571672702977/KIPVGJCS_normal.jpg', profile_image_url_https='https://pbs.twimg.com/profile_images/1328361571672702977/KIPVGJCS_normal.jpg', profile_banner_url='https://pbs.twimg.com/profile_banners/1056751255299608576/1603505981', profile_link_color='1DA1F2', profile_sidebar_border_color='C0DEED', profile_sidebar_fill_color='DDEEF6', profile_text_color='333333', profile_use_background_image=True, has_extended_profile=False, default_profile=True, default_profile_image=False, following=False, follow_request_sent=False, notifications=False, translator_type='none'), geo=None, coordinates=None, place=None, contributors=None, is_quote_status=False, retweet_count=0, favorite_count=4, favorited=False, retweeted=False, lang='en') \n",
      "\n",
      "...........................................................\n",
      "\n",
      "Status(_api=<tweepy.api.API object at 0x000001198EBC4E08>, _json={'created_at': 'Tue Nov 10 19:12:28 +0000 2020', 'id': 1326241330582880257, 'id_str': '1326241330582880257', 'full_text': 'Rohit Sharma is unfit 🤦🏻\\u200d♂️...Selection committee ...\\nchampion is a champion....selection is not that important in comparison to talent , ability..Rohit Sharma , once in a millennium player 🥳🥳🥳🥳\\n#MIChampion5\\n#RohitSharma \\n#Incredible', 'truncated': False, 'display_text_range': [0, 233], 'entities': {'hashtags': [{'text': 'MIChampion5', 'indices': [195, 207]}, {'text': 'RohitSharma', 'indices': [208, 220]}, {'text': 'Incredible', 'indices': [222, 233]}], 'symbols': [], 'user_mentions': [], 'urls': []}, 'metadata': {'iso_language_code': 'en', 'result_type': 'recent'}, 'source': '<a href=\"http://twitter.com/download/android\" rel=\"nofollow\">Twitter for Android</a>', 'in_reply_to_status_id': None, 'in_reply_to_status_id_str': None, 'in_reply_to_user_id': None, 'in_reply_to_user_id_str': None, 'in_reply_to_screen_name': None, 'user': {'id': 4684332554, 'id_str': '4684332554', 'name': 'BHASKAR KUMAR', 'screen_name': 'kbhaskar_', 'location': 'Nabinagar, Bihar', 'description': '', 'url': None, 'entities': {'description': {'urls': []}}, 'protected': False, 'followers_count': 18, 'friends_count': 109, 'listed_count': 0, 'created_at': 'Thu Dec 31 18:46:10 +0000 2015', 'favourites_count': 255, 'utc_offset': None, 'time_zone': None, 'geo_enabled': False, 'verified': False, 'statuses_count': 73, 'lang': None, 'contributors_enabled': False, 'is_translator': False, 'is_translation_enabled': False, 'profile_background_color': 'F5F8FA', 'profile_background_image_url': None, 'profile_background_image_url_https': None, 'profile_background_tile': False, 'profile_image_url': 'http://pbs.twimg.com/profile_images/1276930310484213760/OHzXvimt_normal.jpg', 'profile_image_url_https': 'https://pbs.twimg.com/profile_images/1276930310484213760/OHzXvimt_normal.jpg', 'profile_banner_url': 'https://pbs.twimg.com/profile_banners/4684332554/1593278912', 'profile_link_color': '1DA1F2', 'profile_sidebar_border_color': 'C0DEED', 'profile_sidebar_fill_color': 'DDEEF6', 'profile_text_color': '333333', 'profile_use_background_image': True, 'has_extended_profile': True, 'default_profile': True, 'default_profile_image': False, 'following': False, 'follow_request_sent': False, 'notifications': False, 'translator_type': 'none'}, 'geo': None, 'coordinates': None, 'place': None, 'contributors': None, 'is_quote_status': False, 'retweet_count': 1, 'favorite_count': 3, 'favorited': False, 'retweeted': False, 'lang': 'en'}, created_at=datetime.datetime(2020, 11, 10, 19, 12, 28), id=1326241330582880257, id_str='1326241330582880257', full_text='Rohit Sharma is unfit 🤦🏻\\u200d♂️...Selection committee ...\\nchampion is a champion....selection is not that important in comparison to talent , ability..Rohit Sharma , once in a millennium player 🥳🥳🥳🥳\\n#MIChampion5\\n#RohitSharma \\n#Incredible', truncated=False, display_text_range=[0, 233], entities={'hashtags': [{'text': 'MIChampion5', 'indices': [195, 207]}, {'text': 'RohitSharma', 'indices': [208, 220]}, {'text': 'Incredible', 'indices': [222, 233]}], 'symbols': [], 'user_mentions': [], 'urls': []}, metadata={'iso_language_code': 'en', 'result_type': 'recent'}, source='Twitter for Android', source_url='http://twitter.com/download/android', in_reply_to_status_id=None, in_reply_to_status_id_str=None, in_reply_to_user_id=None, in_reply_to_user_id_str=None, in_reply_to_screen_name=None, author=User(_api=<tweepy.api.API object at 0x000001198EBC4E08>, _json={'id': 4684332554, 'id_str': '4684332554', 'name': 'BHASKAR KUMAR', 'screen_name': 'kbhaskar_', 'location': 'Nabinagar, Bihar', 'description': '', 'url': None, 'entities': {'description': {'urls': []}}, 'protected': False, 'followers_count': 18, 'friends_count': 109, 'listed_count': 0, 'created_at': 'Thu Dec 31 18:46:10 +0000 2015', 'favourites_count': 255, 'utc_offset': None, 'time_zone': None, 'geo_enabled': False, 'verified': False, 'statuses_count': 73, 'lang': None, 'contributors_enabled': False, 'is_translator': False, 'is_translation_enabled': False, 'profile_background_color': 'F5F8FA', 'profile_background_image_url': None, 'profile_background_image_url_https': None, 'profile_background_tile': False, 'profile_image_url': 'http://pbs.twimg.com/profile_images/1276930310484213760/OHzXvimt_normal.jpg', 'profile_image_url_https': 'https://pbs.twimg.com/profile_images/1276930310484213760/OHzXvimt_normal.jpg', 'profile_banner_url': 'https://pbs.twimg.com/profile_banners/4684332554/1593278912', 'profile_link_color': '1DA1F2', 'profile_sidebar_border_color': 'C0DEED', 'profile_sidebar_fill_color': 'DDEEF6', 'profile_text_color': '333333', 'profile_use_background_image': True, 'has_extended_profile': True, 'default_profile': True, 'default_profile_image': False, 'following': False, 'follow_request_sent': False, 'notifications': False, 'translator_type': 'none'}, id=4684332554, id_str='4684332554', name='BHASKAR KUMAR', screen_name='kbhaskar_', location='Nabinagar, Bihar', description='', url=None, entities={'description': {'urls': []}}, protected=False, followers_count=18, friends_count=109, listed_count=0, created_at=datetime.datetime(2015, 12, 31, 18, 46, 10), favourites_count=255, utc_offset=None, time_zone=None, geo_enabled=False, verified=False, statuses_count=73, lang=None, contributors_enabled=False, is_translator=False, is_translation_enabled=False, profile_background_color='F5F8FA', profile_background_image_url=None, profile_background_image_url_https=None, profile_background_tile=False, profile_image_url='http://pbs.twimg.com/profile_images/1276930310484213760/OHzXvimt_normal.jpg', profile_image_url_https='https://pbs.twimg.com/profile_images/1276930310484213760/OHzXvimt_normal.jpg', profile_banner_url='https://pbs.twimg.com/profile_banners/4684332554/1593278912', profile_link_color='1DA1F2', profile_sidebar_border_color='C0DEED', profile_sidebar_fill_color='DDEEF6', profile_text_color='333333', profile_use_background_image=True, has_extended_profile=True, default_profile=True, default_profile_image=False, following=False, follow_request_sent=False, notifications=False, translator_type='none'), user=User(_api=<tweepy.api.API object at 0x000001198EBC4E08>, _json={'id': 4684332554, 'id_str': '4684332554', 'name': 'BHASKAR KUMAR', 'screen_name': 'kbhaskar_', 'location': 'Nabinagar, Bihar', 'description': '', 'url': None, 'entities': {'description': {'urls': []}}, 'protected': False, 'followers_count': 18, 'friends_count': 109, 'listed_count': 0, 'created_at': 'Thu Dec 31 18:46:10 +0000 2015', 'favourites_count': 255, 'utc_offset': None, 'time_zone': None, 'geo_enabled': False, 'verified': False, 'statuses_count': 73, 'lang': None, 'contributors_enabled': False, 'is_translator': False, 'is_translation_enabled': False, 'profile_background_color': 'F5F8FA', 'profile_background_image_url': None, 'profile_background_image_url_https': None, 'profile_background_tile': False, 'profile_image_url': 'http://pbs.twimg.com/profile_images/1276930310484213760/OHzXvimt_normal.jpg', 'profile_image_url_https': 'https://pbs.twimg.com/profile_images/1276930310484213760/OHzXvimt_normal.jpg', 'profile_banner_url': 'https://pbs.twimg.com/profile_banners/4684332554/1593278912', 'profile_link_color': '1DA1F2', 'profile_sidebar_border_color': 'C0DEED', 'profile_sidebar_fill_color': 'DDEEF6', 'profile_text_color': '333333', 'profile_use_background_image': True, 'has_extended_profile': True, 'default_profile': True, 'default_profile_image': False, 'following': False, 'follow_request_sent': False, 'notifications': False, 'translator_type': 'none'}, id=4684332554, id_str='4684332554', name='BHASKAR KUMAR', screen_name='kbhaskar_', location='Nabinagar, Bihar', description='', url=None, entities={'description': {'urls': []}}, protected=False, followers_count=18, friends_count=109, listed_count=0, created_at=datetime.datetime(2015, 12, 31, 18, 46, 10), favourites_count=255, utc_offset=None, time_zone=None, geo_enabled=False, verified=False, statuses_count=73, lang=None, contributors_enabled=False, is_translator=False, is_translation_enabled=False, profile_background_color='F5F8FA', profile_background_image_url=None, profile_background_image_url_https=None, profile_background_tile=False, profile_image_url='http://pbs.twimg.com/profile_images/1276930310484213760/OHzXvimt_normal.jpg', profile_image_url_https='https://pbs.twimg.com/profile_images/1276930310484213760/OHzXvimt_normal.jpg', profile_banner_url='https://pbs.twimg.com/profile_banners/4684332554/1593278912', profile_link_color='1DA1F2', profile_sidebar_border_color='C0DEED', profile_sidebar_fill_color='DDEEF6', profile_text_color='333333', profile_use_background_image=True, has_extended_profile=True, default_profile=True, default_profile_image=False, following=False, follow_request_sent=False, notifications=False, translator_type='none'), geo=None, coordinates=None, place=None, contributors=None, is_quote_status=False, retweet_count=1, favorite_count=3, favorited=False, retweeted=False, lang='en') \n",
      "\n",
      "...........................................................\n",
      "\n",
      "Status(_api=<tweepy.api.API object at 0x000001198EBC4E08>, _json={'created_at': 'Tue Nov 10 17:59:25 +0000 2020', 'id': 1326222948491882496, 'id_str': '1326222948491882496', 'full_text': 'BCCI- Rohit Sharma is unfit.\\nRohit Sharma- 68 off 51 in IPL finals. I am fit now. #MumbaiIndians #MIvsDC #IPL2020 #IPL2020final', 'truncated': False, 'display_text_range': [0, 127], 'entities': {'hashtags': [{'text': 'MumbaiIndians', 'indices': [82, 96]}, {'text': 'MIvsDC', 'indices': [97, 104]}, {'text': 'IPL2020', 'indices': [105, 113]}, {'text': 'IPL2020final', 'indices': [114, 127]}], 'symbols': [], 'user_mentions': [], 'urls': []}, 'metadata': {'iso_language_code': 'en', 'result_type': 'recent'}, 'source': '<a href=\"http://twitter.com/download/android\" rel=\"nofollow\">Twitter for Android</a>', 'in_reply_to_status_id': None, 'in_reply_to_status_id_str': None, 'in_reply_to_user_id': None, 'in_reply_to_user_id_str': None, 'in_reply_to_screen_name': None, 'user': {'id': 4911188168, 'id_str': '4911188168', 'name': 'Shubham dalmia', 'screen_name': 'TheSonOfCricket', 'location': '', 'description': 'Sports Enthusiasts🎾⚽🏏🏑🏸\\nBleed blue🇮🇳\\nLiverpool FC\\nCricket is my life\\n#askthatcricketguy\\nCricket Analyst and Blogger', 'url': 'https://t.co/jGWSo2MNav', 'entities': {'url': {'urls': [{'url': 'https://t.co/jGWSo2MNav', 'expanded_url': 'http://www.askthatcricketguy.in', 'display_url': 'askthatcricketguy.in', 'indices': [0, 23]}]}, 'description': {'urls': []}}, 'protected': False, 'followers_count': 18, 'friends_count': 89, 'listed_count': 0, 'created_at': 'Mon Feb 15 12:27:56 +0000 2016', 'favourites_count': 1186, 'utc_offset': None, 'time_zone': None, 'geo_enabled': False, 'verified': False, 'statuses_count': 1966, 'lang': None, 'contributors_enabled': False, 'is_translator': False, 'is_translation_enabled': False, 'profile_background_color': 'F5F8FA', 'profile_background_image_url': None, 'profile_background_image_url_https': None, 'profile_background_tile': False, 'profile_image_url': 'http://pbs.twimg.com/profile_images/1233316423205679105/csrsWH6O_normal.jpg', 'profile_image_url_https': 'https://pbs.twimg.com/profile_images/1233316423205679105/csrsWH6O_normal.jpg', 'profile_banner_url': 'https://pbs.twimg.com/profile_banners/4911188168/1600699114', 'profile_link_color': '1DA1F2', 'profile_sidebar_border_color': 'C0DEED', 'profile_sidebar_fill_color': 'DDEEF6', 'profile_text_color': '333333', 'profile_use_background_image': True, 'has_extended_profile': False, 'default_profile': True, 'default_profile_image': False, 'following': False, 'follow_request_sent': False, 'notifications': False, 'translator_type': 'none'}, 'geo': None, 'coordinates': None, 'place': None, 'contributors': None, 'is_quote_status': False, 'retweet_count': 0, 'favorite_count': 0, 'favorited': False, 'retweeted': False, 'lang': 'en'}, created_at=datetime.datetime(2020, 11, 10, 17, 59, 25), id=1326222948491882496, id_str='1326222948491882496', full_text='BCCI- Rohit Sharma is unfit.\\nRohit Sharma- 68 off 51 in IPL finals. I am fit now. #MumbaiIndians #MIvsDC #IPL2020 #IPL2020final', truncated=False, display_text_range=[0, 127], entities={'hashtags': [{'text': 'MumbaiIndians', 'indices': [82, 96]}, {'text': 'MIvsDC', 'indices': [97, 104]}, {'text': 'IPL2020', 'indices': [105, 113]}, {'text': 'IPL2020final', 'indices': [114, 127]}], 'symbols': [], 'user_mentions': [], 'urls': []}, metadata={'iso_language_code': 'en', 'result_type': 'recent'}, source='Twitter for Android', source_url='http://twitter.com/download/android', in_reply_to_status_id=None, in_reply_to_status_id_str=None, in_reply_to_user_id=None, in_reply_to_user_id_str=None, in_reply_to_screen_name=None, author=User(_api=<tweepy.api.API object at 0x000001198EBC4E08>, _json={'id': 4911188168, 'id_str': '4911188168', 'name': 'Shubham dalmia', 'screen_name': 'TheSonOfCricket', 'location': '', 'description': 'Sports Enthusiasts🎾⚽🏏🏑🏸\\nBleed blue🇮🇳\\nLiverpool FC\\nCricket is my life\\n#askthatcricketguy\\nCricket Analyst and Blogger', 'url': 'https://t.co/jGWSo2MNav', 'entities': {'url': {'urls': [{'url': 'https://t.co/jGWSo2MNav', 'expanded_url': 'http://www.askthatcricketguy.in', 'display_url': 'askthatcricketguy.in', 'indices': [0, 23]}]}, 'description': {'urls': []}}, 'protected': False, 'followers_count': 18, 'friends_count': 89, 'listed_count': 0, 'created_at': 'Mon Feb 15 12:27:56 +0000 2016', 'favourites_count': 1186, 'utc_offset': None, 'time_zone': None, 'geo_enabled': False, 'verified': False, 'statuses_count': 1966, 'lang': None, 'contributors_enabled': False, 'is_translator': False, 'is_translation_enabled': False, 'profile_background_color': 'F5F8FA', 'profile_background_image_url': None, 'profile_background_image_url_https': None, 'profile_background_tile': False, 'profile_image_url': 'http://pbs.twimg.com/profile_images/1233316423205679105/csrsWH6O_normal.jpg', 'profile_image_url_https': 'https://pbs.twimg.com/profile_images/1233316423205679105/csrsWH6O_normal.jpg', 'profile_banner_url': 'https://pbs.twimg.com/profile_banners/4911188168/1600699114', 'profile_link_color': '1DA1F2', 'profile_sidebar_border_color': 'C0DEED', 'profile_sidebar_fill_color': 'DDEEF6', 'profile_text_color': '333333', 'profile_use_background_image': True, 'has_extended_profile': False, 'default_profile': True, 'default_profile_image': False, 'following': False, 'follow_request_sent': False, 'notifications': False, 'translator_type': 'none'}, id=4911188168, id_str='4911188168', name='Shubham dalmia', screen_name='TheSonOfCricket', location='', description='Sports Enthusiasts🎾⚽🏏🏑🏸\\nBleed blue🇮🇳\\nLiverpool FC\\nCricket is my life\\n#askthatcricketguy\\nCricket Analyst and Blogger', url='https://t.co/jGWSo2MNav', entities={'url': {'urls': [{'url': 'https://t.co/jGWSo2MNav', 'expanded_url': 'http://www.askthatcricketguy.in', 'display_url': 'askthatcricketguy.in', 'indices': [0, 23]}]}, 'description': {'urls': []}}, protected=False, followers_count=18, friends_count=89, listed_count=0, created_at=datetime.datetime(2016, 2, 15, 12, 27, 56), favourites_count=1186, utc_offset=None, time_zone=None, geo_enabled=False, verified=False, statuses_count=1966, lang=None, contributors_enabled=False, is_translator=False, is_translation_enabled=False, profile_background_color='F5F8FA', profile_background_image_url=None, profile_background_image_url_https=None, profile_background_tile=False, profile_image_url='http://pbs.twimg.com/profile_images/1233316423205679105/csrsWH6O_normal.jpg', profile_image_url_https='https://pbs.twimg.com/profile_images/1233316423205679105/csrsWH6O_normal.jpg', profile_banner_url='https://pbs.twimg.com/profile_banners/4911188168/1600699114', profile_link_color='1DA1F2', profile_sidebar_border_color='C0DEED', profile_sidebar_fill_color='DDEEF6', profile_text_color='333333', profile_use_background_image=True, has_extended_profile=False, default_profile=True, default_profile_image=False, following=False, follow_request_sent=False, notifications=False, translator_type='none'), user=User(_api=<tweepy.api.API object at 0x000001198EBC4E08>, _json={'id': 4911188168, 'id_str': '4911188168', 'name': 'Shubham dalmia', 'screen_name': 'TheSonOfCricket', 'location': '', 'description': 'Sports Enthusiasts🎾⚽🏏🏑🏸\\nBleed blue🇮🇳\\nLiverpool FC\\nCricket is my life\\n#askthatcricketguy\\nCricket Analyst and Blogger', 'url': 'https://t.co/jGWSo2MNav', 'entities': {'url': {'urls': [{'url': 'https://t.co/jGWSo2MNav', 'expanded_url': 'http://www.askthatcricketguy.in', 'display_url': 'askthatcricketguy.in', 'indices': [0, 23]}]}, 'description': {'urls': []}}, 'protected': False, 'followers_count': 18, 'friends_count': 89, 'listed_count': 0, 'created_at': 'Mon Feb 15 12:27:56 +0000 2016', 'favourites_count': 1186, 'utc_offset': None, 'time_zone': None, 'geo_enabled': False, 'verified': False, 'statuses_count': 1966, 'lang': None, 'contributors_enabled': False, 'is_translator': False, 'is_translation_enabled': False, 'profile_background_color': 'F5F8FA', 'profile_background_image_url': None, 'profile_background_image_url_https': None, 'profile_background_tile': False, 'profile_image_url': 'http://pbs.twimg.com/profile_images/1233316423205679105/csrsWH6O_normal.jpg', 'profile_image_url_https': 'https://pbs.twimg.com/profile_images/1233316423205679105/csrsWH6O_normal.jpg', 'profile_banner_url': 'https://pbs.twimg.com/profile_banners/4911188168/1600699114', 'profile_link_color': '1DA1F2', 'profile_sidebar_border_color': 'C0DEED', 'profile_sidebar_fill_color': 'DDEEF6', 'profile_text_color': '333333', 'profile_use_background_image': True, 'has_extended_profile': False, 'default_profile': True, 'default_profile_image': False, 'following': False, 'follow_request_sent': False, 'notifications': False, 'translator_type': 'none'}, id=4911188168, id_str='4911188168', name='Shubham dalmia', screen_name='TheSonOfCricket', location='', description='Sports Enthusiasts🎾⚽🏏🏑🏸\\nBleed blue🇮🇳\\nLiverpool FC\\nCricket is my life\\n#askthatcricketguy\\nCricket Analyst and Blogger', url='https://t.co/jGWSo2MNav', entities={'url': {'urls': [{'url': 'https://t.co/jGWSo2MNav', 'expanded_url': 'http://www.askthatcricketguy.in', 'display_url': 'askthatcricketguy.in', 'indices': [0, 23]}]}, 'description': {'urls': []}}, protected=False, followers_count=18, friends_count=89, listed_count=0, created_at=datetime.datetime(2016, 2, 15, 12, 27, 56), favourites_count=1186, utc_offset=None, time_zone=None, geo_enabled=False, verified=False, statuses_count=1966, lang=None, contributors_enabled=False, is_translator=False, is_translation_enabled=False, profile_background_color='F5F8FA', profile_background_image_url=None, profile_background_image_url_https=None, profile_background_tile=False, profile_image_url='http://pbs.twimg.com/profile_images/1233316423205679105/csrsWH6O_normal.jpg', profile_image_url_https='https://pbs.twimg.com/profile_images/1233316423205679105/csrsWH6O_normal.jpg', profile_banner_url='https://pbs.twimg.com/profile_banners/4911188168/1600699114', profile_link_color='1DA1F2', profile_sidebar_border_color='C0DEED', profile_sidebar_fill_color='DDEEF6', profile_text_color='333333', profile_use_background_image=True, has_extended_profile=False, default_profile=True, default_profile_image=False, following=False, follow_request_sent=False, notifications=False, translator_type='none'), geo=None, coordinates=None, place=None, contributors=None, is_quote_status=False, retweet_count=0, favorite_count=0, favorited=False, retweeted=False, lang='en') \n",
      "\n",
      "...........................................................\n",
      "\n",
      "Status(_api=<tweepy.api.API object at 0x000001198EBC4E08>, _json={'created_at': 'Tue Nov 10 17:58:27 +0000 2020', 'id': 1326222705079803909, 'id_str': '1326222705079803909', 'full_text': 'Rohit sharma is unfit for team india but fit for mumbai india.. \\nfranchise &gt; country', 'truncated': False, 'display_text_range': [0, 87], 'entities': {'hashtags': [], 'symbols': [], 'user_mentions': [], 'urls': []}, 'metadata': {'iso_language_code': 'en', 'result_type': 'recent'}, 'source': '<a href=\"http://twitter.com/download/iphone\" rel=\"nofollow\">Twitter for iPhone</a>', 'in_reply_to_status_id': None, 'in_reply_to_status_id_str': None, 'in_reply_to_user_id': None, 'in_reply_to_user_id_str': None, 'in_reply_to_screen_name': None, 'user': {'id': 966387040765009920, 'id_str': '966387040765009920', 'name': 'Haroon Rasheed', 'screen_name': 'cricketlover000', 'location': '', 'description': 'Quadian ❤️,PTI💜, IMRAN KHAN❤️CRICKET💜', 'url': None, 'entities': {'description': {'urls': []}}, 'protected': False, 'followers_count': 431, 'friends_count': 882, 'listed_count': 2, 'created_at': 'Wed Feb 21 18:59:59 +0000 2018', 'favourites_count': 28051, 'utc_offset': None, 'time_zone': None, 'geo_enabled': False, 'verified': False, 'statuses_count': 21561, 'lang': None, 'contributors_enabled': False, 'is_translator': False, 'is_translation_enabled': False, 'profile_background_color': 'F5F8FA', 'profile_background_image_url': None, 'profile_background_image_url_https': None, 'profile_background_tile': False, 'profile_image_url': 'http://pbs.twimg.com/profile_images/1327520916205613059/n7AhSzB2_normal.jpg', 'profile_image_url_https': 'https://pbs.twimg.com/profile_images/1327520916205613059/n7AhSzB2_normal.jpg', 'profile_banner_url': 'https://pbs.twimg.com/profile_banners/966387040765009920/1603527797', 'profile_link_color': '1DA1F2', 'profile_sidebar_border_color': 'C0DEED', 'profile_sidebar_fill_color': 'DDEEF6', 'profile_text_color': '333333', 'profile_use_background_image': True, 'has_extended_profile': True, 'default_profile': True, 'default_profile_image': False, 'following': False, 'follow_request_sent': False, 'notifications': False, 'translator_type': 'none'}, 'geo': None, 'coordinates': None, 'place': None, 'contributors': None, 'is_quote_status': False, 'retweet_count': 0, 'favorite_count': 6, 'favorited': False, 'retweeted': False, 'lang': 'en'}, created_at=datetime.datetime(2020, 11, 10, 17, 58, 27), id=1326222705079803909, id_str='1326222705079803909', full_text='Rohit sharma is unfit for team india but fit for mumbai india.. \\nfranchise &gt; country', truncated=False, display_text_range=[0, 87], entities={'hashtags': [], 'symbols': [], 'user_mentions': [], 'urls': []}, metadata={'iso_language_code': 'en', 'result_type': 'recent'}, source='Twitter for iPhone', source_url='http://twitter.com/download/iphone', in_reply_to_status_id=None, in_reply_to_status_id_str=None, in_reply_to_user_id=None, in_reply_to_user_id_str=None, in_reply_to_screen_name=None, author=User(_api=<tweepy.api.API object at 0x000001198EBC4E08>, _json={'id': 966387040765009920, 'id_str': '966387040765009920', 'name': 'Haroon Rasheed', 'screen_name': 'cricketlover000', 'location': '', 'description': 'Quadian ❤️,PTI💜, IMRAN KHAN❤️CRICKET💜', 'url': None, 'entities': {'description': {'urls': []}}, 'protected': False, 'followers_count': 431, 'friends_count': 882, 'listed_count': 2, 'created_at': 'Wed Feb 21 18:59:59 +0000 2018', 'favourites_count': 28051, 'utc_offset': None, 'time_zone': None, 'geo_enabled': False, 'verified': False, 'statuses_count': 21561, 'lang': None, 'contributors_enabled': False, 'is_translator': False, 'is_translation_enabled': False, 'profile_background_color': 'F5F8FA', 'profile_background_image_url': None, 'profile_background_image_url_https': None, 'profile_background_tile': False, 'profile_image_url': 'http://pbs.twimg.com/profile_images/1327520916205613059/n7AhSzB2_normal.jpg', 'profile_image_url_https': 'https://pbs.twimg.com/profile_images/1327520916205613059/n7AhSzB2_normal.jpg', 'profile_banner_url': 'https://pbs.twimg.com/profile_banners/966387040765009920/1603527797', 'profile_link_color': '1DA1F2', 'profile_sidebar_border_color': 'C0DEED', 'profile_sidebar_fill_color': 'DDEEF6', 'profile_text_color': '333333', 'profile_use_background_image': True, 'has_extended_profile': True, 'default_profile': True, 'default_profile_image': False, 'following': False, 'follow_request_sent': False, 'notifications': False, 'translator_type': 'none'}, id=966387040765009920, id_str='966387040765009920', name='Haroon Rasheed', screen_name='cricketlover000', location='', description='Quadian ❤️,PTI💜, IMRAN KHAN❤️CRICKET💜', url=None, entities={'description': {'urls': []}}, protected=False, followers_count=431, friends_count=882, listed_count=2, created_at=datetime.datetime(2018, 2, 21, 18, 59, 59), favourites_count=28051, utc_offset=None, time_zone=None, geo_enabled=False, verified=False, statuses_count=21561, lang=None, contributors_enabled=False, is_translator=False, is_translation_enabled=False, profile_background_color='F5F8FA', profile_background_image_url=None, profile_background_image_url_https=None, profile_background_tile=False, profile_image_url='http://pbs.twimg.com/profile_images/1327520916205613059/n7AhSzB2_normal.jpg', profile_image_url_https='https://pbs.twimg.com/profile_images/1327520916205613059/n7AhSzB2_normal.jpg', profile_banner_url='https://pbs.twimg.com/profile_banners/966387040765009920/1603527797', profile_link_color='1DA1F2', profile_sidebar_border_color='C0DEED', profile_sidebar_fill_color='DDEEF6', profile_text_color='333333', profile_use_background_image=True, has_extended_profile=True, default_profile=True, default_profile_image=False, following=False, follow_request_sent=False, notifications=False, translator_type='none'), user=User(_api=<tweepy.api.API object at 0x000001198EBC4E08>, _json={'id': 966387040765009920, 'id_str': '966387040765009920', 'name': 'Haroon Rasheed', 'screen_name': 'cricketlover000', 'location': '', 'description': 'Quadian ❤️,PTI💜, IMRAN KHAN❤️CRICKET💜', 'url': None, 'entities': {'description': {'urls': []}}, 'protected': False, 'followers_count': 431, 'friends_count': 882, 'listed_count': 2, 'created_at': 'Wed Feb 21 18:59:59 +0000 2018', 'favourites_count': 28051, 'utc_offset': None, 'time_zone': None, 'geo_enabled': False, 'verified': False, 'statuses_count': 21561, 'lang': None, 'contributors_enabled': False, 'is_translator': False, 'is_translation_enabled': False, 'profile_background_color': 'F5F8FA', 'profile_background_image_url': None, 'profile_background_image_url_https': None, 'profile_background_tile': False, 'profile_image_url': 'http://pbs.twimg.com/profile_images/1327520916205613059/n7AhSzB2_normal.jpg', 'profile_image_url_https': 'https://pbs.twimg.com/profile_images/1327520916205613059/n7AhSzB2_normal.jpg', 'profile_banner_url': 'https://pbs.twimg.com/profile_banners/966387040765009920/1603527797', 'profile_link_color': '1DA1F2', 'profile_sidebar_border_color': 'C0DEED', 'profile_sidebar_fill_color': 'DDEEF6', 'profile_text_color': '333333', 'profile_use_background_image': True, 'has_extended_profile': True, 'default_profile': True, 'default_profile_image': False, 'following': False, 'follow_request_sent': False, 'notifications': False, 'translator_type': 'none'}, id=966387040765009920, id_str='966387040765009920', name='Haroon Rasheed', screen_name='cricketlover000', location='', description='Quadian ❤️,PTI💜, IMRAN KHAN❤️CRICKET💜', url=None, entities={'description': {'urls': []}}, protected=False, followers_count=431, friends_count=882, listed_count=2, created_at=datetime.datetime(2018, 2, 21, 18, 59, 59), favourites_count=28051, utc_offset=None, time_zone=None, geo_enabled=False, verified=False, statuses_count=21561, lang=None, contributors_enabled=False, is_translator=False, is_translation_enabled=False, profile_background_color='F5F8FA', profile_background_image_url=None, profile_background_image_url_https=None, profile_background_tile=False, profile_image_url='http://pbs.twimg.com/profile_images/1327520916205613059/n7AhSzB2_normal.jpg', profile_image_url_https='https://pbs.twimg.com/profile_images/1327520916205613059/n7AhSzB2_normal.jpg', profile_banner_url='https://pbs.twimg.com/profile_banners/966387040765009920/1603527797', profile_link_color='1DA1F2', profile_sidebar_border_color='C0DEED', profile_sidebar_fill_color='DDEEF6', profile_text_color='333333', profile_use_background_image=True, has_extended_profile=True, default_profile=True, default_profile_image=False, following=False, follow_request_sent=False, notifications=False, translator_type='none'), geo=None, coordinates=None, place=None, contributors=None, is_quote_status=False, retweet_count=0, favorite_count=6, favorited=False, retweeted=False, lang='en') \n",
      "\n",
      "...........................................................\n",
      "\n",
      "Status(_api=<tweepy.api.API object at 0x000001198EBC4E08>, _json={'created_at': 'Tue Nov 10 17:50:57 +0000 2020', 'id': 1326220816401522688, 'id_str': '1326220816401522688', 'full_text': \"How is Rohit Sharma unfit? Does unfit player play like how Rohit played in the final? I don't what's going on?\\n#rohitsharma45 #justiceforrohitsharma\", 'truncated': False, 'display_text_range': [0, 148], 'entities': {'hashtags': [{'text': 'rohitsharma45', 'indices': [111, 125]}, {'text': 'justiceforrohitsharma', 'indices': [126, 148]}], 'symbols': [], 'user_mentions': [], 'urls': []}, 'metadata': {'iso_language_code': 'en', 'result_type': 'recent'}, 'source': '<a href=\"https://mobile.twitter.com\" rel=\"nofollow\">Twitter Web App</a>', 'in_reply_to_status_id': None, 'in_reply_to_status_id_str': None, 'in_reply_to_user_id': None, 'in_reply_to_user_id_str': None, 'in_reply_to_screen_name': None, 'user': {'id': 803273002079162372, 'id_str': '803273002079162372', 'name': 'sarthak tiwari', 'screen_name': 'tiwatphysicist', 'location': '', 'description': 'Physics and mathematics enthusiast, can juggle 3 balls with 2 hands, used to play 🏏', 'url': None, 'entities': {'description': {'urls': []}}, 'protected': False, 'followers_count': 12, 'friends_count': 66, 'listed_count': 0, 'created_at': 'Mon Nov 28 16:23:02 +0000 2016', 'favourites_count': 477, 'utc_offset': None, 'time_zone': None, 'geo_enabled': False, 'verified': False, 'statuses_count': 165, 'lang': None, 'contributors_enabled': False, 'is_translator': False, 'is_translation_enabled': False, 'profile_background_color': 'F5F8FA', 'profile_background_image_url': None, 'profile_background_image_url_https': None, 'profile_background_tile': False, 'profile_image_url': 'http://pbs.twimg.com/profile_images/1282226950161883136/Nq6Z2XAd_normal.jpg', 'profile_image_url_https': 'https://pbs.twimg.com/profile_images/1282226950161883136/Nq6Z2XAd_normal.jpg', 'profile_link_color': '1DA1F2', 'profile_sidebar_border_color': 'C0DEED', 'profile_sidebar_fill_color': 'DDEEF6', 'profile_text_color': '333333', 'profile_use_background_image': True, 'has_extended_profile': False, 'default_profile': True, 'default_profile_image': False, 'following': False, 'follow_request_sent': False, 'notifications': False, 'translator_type': 'none'}, 'geo': None, 'coordinates': None, 'place': None, 'contributors': None, 'is_quote_status': False, 'retweet_count': 0, 'favorite_count': 1, 'favorited': False, 'retweeted': False, 'lang': 'en'}, created_at=datetime.datetime(2020, 11, 10, 17, 50, 57), id=1326220816401522688, id_str='1326220816401522688', full_text=\"How is Rohit Sharma unfit? Does unfit player play like how Rohit played in the final? I don't what's going on?\\n#rohitsharma45 #justiceforrohitsharma\", truncated=False, display_text_range=[0, 148], entities={'hashtags': [{'text': 'rohitsharma45', 'indices': [111, 125]}, {'text': 'justiceforrohitsharma', 'indices': [126, 148]}], 'symbols': [], 'user_mentions': [], 'urls': []}, metadata={'iso_language_code': 'en', 'result_type': 'recent'}, source='Twitter Web App', source_url='https://mobile.twitter.com', in_reply_to_status_id=None, in_reply_to_status_id_str=None, in_reply_to_user_id=None, in_reply_to_user_id_str=None, in_reply_to_screen_name=None, author=User(_api=<tweepy.api.API object at 0x000001198EBC4E08>, _json={'id': 803273002079162372, 'id_str': '803273002079162372', 'name': 'sarthak tiwari', 'screen_name': 'tiwatphysicist', 'location': '', 'description': 'Physics and mathematics enthusiast, can juggle 3 balls with 2 hands, used to play 🏏', 'url': None, 'entities': {'description': {'urls': []}}, 'protected': False, 'followers_count': 12, 'friends_count': 66, 'listed_count': 0, 'created_at': 'Mon Nov 28 16:23:02 +0000 2016', 'favourites_count': 477, 'utc_offset': None, 'time_zone': None, 'geo_enabled': False, 'verified': False, 'statuses_count': 165, 'lang': None, 'contributors_enabled': False, 'is_translator': False, 'is_translation_enabled': False, 'profile_background_color': 'F5F8FA', 'profile_background_image_url': None, 'profile_background_image_url_https': None, 'profile_background_tile': False, 'profile_image_url': 'http://pbs.twimg.com/profile_images/1282226950161883136/Nq6Z2XAd_normal.jpg', 'profile_image_url_https': 'https://pbs.twimg.com/profile_images/1282226950161883136/Nq6Z2XAd_normal.jpg', 'profile_link_color': '1DA1F2', 'profile_sidebar_border_color': 'C0DEED', 'profile_sidebar_fill_color': 'DDEEF6', 'profile_text_color': '333333', 'profile_use_background_image': True, 'has_extended_profile': False, 'default_profile': True, 'default_profile_image': False, 'following': False, 'follow_request_sent': False, 'notifications': False, 'translator_type': 'none'}, id=803273002079162372, id_str='803273002079162372', name='sarthak tiwari', screen_name='tiwatphysicist', location='', description='Physics and mathematics enthusiast, can juggle 3 balls with 2 hands, used to play 🏏', url=None, entities={'description': {'urls': []}}, protected=False, followers_count=12, friends_count=66, listed_count=0, created_at=datetime.datetime(2016, 11, 28, 16, 23, 2), favourites_count=477, utc_offset=None, time_zone=None, geo_enabled=False, verified=False, statuses_count=165, lang=None, contributors_enabled=False, is_translator=False, is_translation_enabled=False, profile_background_color='F5F8FA', profile_background_image_url=None, profile_background_image_url_https=None, profile_background_tile=False, profile_image_url='http://pbs.twimg.com/profile_images/1282226950161883136/Nq6Z2XAd_normal.jpg', profile_image_url_https='https://pbs.twimg.com/profile_images/1282226950161883136/Nq6Z2XAd_normal.jpg', profile_link_color='1DA1F2', profile_sidebar_border_color='C0DEED', profile_sidebar_fill_color='DDEEF6', profile_text_color='333333', profile_use_background_image=True, has_extended_profile=False, default_profile=True, default_profile_image=False, following=False, follow_request_sent=False, notifications=False, translator_type='none'), user=User(_api=<tweepy.api.API object at 0x000001198EBC4E08>, _json={'id': 803273002079162372, 'id_str': '803273002079162372', 'name': 'sarthak tiwari', 'screen_name': 'tiwatphysicist', 'location': '', 'description': 'Physics and mathematics enthusiast, can juggle 3 balls with 2 hands, used to play 🏏', 'url': None, 'entities': {'description': {'urls': []}}, 'protected': False, 'followers_count': 12, 'friends_count': 66, 'listed_count': 0, 'created_at': 'Mon Nov 28 16:23:02 +0000 2016', 'favourites_count': 477, 'utc_offset': None, 'time_zone': None, 'geo_enabled': False, 'verified': False, 'statuses_count': 165, 'lang': None, 'contributors_enabled': False, 'is_translator': False, 'is_translation_enabled': False, 'profile_background_color': 'F5F8FA', 'profile_background_image_url': None, 'profile_background_image_url_https': None, 'profile_background_tile': False, 'profile_image_url': 'http://pbs.twimg.com/profile_images/1282226950161883136/Nq6Z2XAd_normal.jpg', 'profile_image_url_https': 'https://pbs.twimg.com/profile_images/1282226950161883136/Nq6Z2XAd_normal.jpg', 'profile_link_color': '1DA1F2', 'profile_sidebar_border_color': 'C0DEED', 'profile_sidebar_fill_color': 'DDEEF6', 'profile_text_color': '333333', 'profile_use_background_image': True, 'has_extended_profile': False, 'default_profile': True, 'default_profile_image': False, 'following': False, 'follow_request_sent': False, 'notifications': False, 'translator_type': 'none'}, id=803273002079162372, id_str='803273002079162372', name='sarthak tiwari', screen_name='tiwatphysicist', location='', description='Physics and mathematics enthusiast, can juggle 3 balls with 2 hands, used to play 🏏', url=None, entities={'description': {'urls': []}}, protected=False, followers_count=12, friends_count=66, listed_count=0, created_at=datetime.datetime(2016, 11, 28, 16, 23, 2), favourites_count=477, utc_offset=None, time_zone=None, geo_enabled=False, verified=False, statuses_count=165, lang=None, contributors_enabled=False, is_translator=False, is_translation_enabled=False, profile_background_color='F5F8FA', profile_background_image_url=None, profile_background_image_url_https=None, profile_background_tile=False, profile_image_url='http://pbs.twimg.com/profile_images/1282226950161883136/Nq6Z2XAd_normal.jpg', profile_image_url_https='https://pbs.twimg.com/profile_images/1282226950161883136/Nq6Z2XAd_normal.jpg', profile_link_color='1DA1F2', profile_sidebar_border_color='C0DEED', profile_sidebar_fill_color='DDEEF6', profile_text_color='333333', profile_use_background_image=True, has_extended_profile=False, default_profile=True, default_profile_image=False, following=False, follow_request_sent=False, notifications=False, translator_type='none'), geo=None, coordinates=None, place=None, contributors=None, is_quote_status=False, retweet_count=0, favorite_count=1, favorited=False, retweeted=False, lang='en') \n",
      "\n",
      "...........................................................\n",
      "\n",
      "Status(_api=<tweepy.api.API object at 0x000001198EBC4E08>, _json={'created_at': 'Tue Nov 10 17:49:50 +0000 2020', 'id': 1326220534716067841, 'id_str': '1326220534716067841', 'full_text': \"@BCCI now don't Say Rohit Sharma is unfit\\nbring him for T20 and ODI series you biased bullshit!\", 'truncated': False, 'display_text_range': [0, 95], 'entities': {'hashtags': [], 'symbols': [], 'user_mentions': [{'screen_name': 'BCCI', 'name': 'BCCI', 'id': 185142711, 'id_str': '185142711', 'indices': [0, 5]}], 'urls': []}, 'metadata': {'iso_language_code': 'en', 'result_type': 'recent'}, 'source': '<a href=\"http://twitter.com/download/android\" rel=\"nofollow\">Twitter for Android</a>', 'in_reply_to_status_id': None, 'in_reply_to_status_id_str': None, 'in_reply_to_user_id': 185142711, 'in_reply_to_user_id_str': '185142711', 'in_reply_to_screen_name': 'BCCI', 'user': {'id': 756858955301879808, 'id_str': '756858955301879808', 'name': 'Moon🌙', 'screen_name': 'ChandniGovind', 'location': 'In Your Eyes Right Now', 'description': '𝑨𝒃𝒔𝒐𝒍𝒖𝒕𝒆𝒍𝒚  𝒂  𝑳𝒂𝒛𝒚  𝑺𝒐𝒖𝒍,  𝑩𝒖𝒔𝒚 𝒐𝒏 𝑫𝒓𝒆𝒂𝒎𝒔  𝒃𝒖𝒕  𝒂𝒍𝒘𝒂𝒚𝒔  𝒇𝒓𝒆𝒆  𝒇𝒐𝒓  𝒈𝒂𝒎𝒆𝒔  𝒂𝒏𝒅  𝒈𝒐𝒔𝒔𝒊𝒑𝒔...\\n❤🍝🤳😴', 'url': None, 'entities': {'description': {'urls': []}}, 'protected': False, 'followers_count': 1003, 'friends_count': 253, 'listed_count': 4, 'created_at': 'Sat Jul 23 14:30:11 +0000 2016', 'favourites_count': 109560, 'utc_offset': None, 'time_zone': None, 'geo_enabled': True, 'verified': False, 'statuses_count': 89768, 'lang': None, 'contributors_enabled': False, 'is_translator': False, 'is_translation_enabled': False, 'profile_background_color': 'F5F8FA', 'profile_background_image_url': None, 'profile_background_image_url_https': None, 'profile_background_tile': False, 'profile_image_url': 'http://pbs.twimg.com/profile_images/1328531388354576385/tX0usG98_normal.jpg', 'profile_image_url_https': 'https://pbs.twimg.com/profile_images/1328531388354576385/tX0usG98_normal.jpg', 'profile_banner_url': 'https://pbs.twimg.com/profile_banners/756858955301879808/1597457662', 'profile_link_color': '1DA1F2', 'profile_sidebar_border_color': 'C0DEED', 'profile_sidebar_fill_color': 'DDEEF6', 'profile_text_color': '333333', 'profile_use_background_image': True, 'has_extended_profile': True, 'default_profile': True, 'default_profile_image': False, 'following': False, 'follow_request_sent': False, 'notifications': False, 'translator_type': 'none'}, 'geo': None, 'coordinates': None, 'place': None, 'contributors': None, 'is_quote_status': False, 'retweet_count': 0, 'favorite_count': 1, 'favorited': False, 'retweeted': False, 'lang': 'en'}, created_at=datetime.datetime(2020, 11, 10, 17, 49, 50), id=1326220534716067841, id_str='1326220534716067841', full_text=\"@BCCI now don't Say Rohit Sharma is unfit\\nbring him for T20 and ODI series you biased bullshit!\", truncated=False, display_text_range=[0, 95], entities={'hashtags': [], 'symbols': [], 'user_mentions': [{'screen_name': 'BCCI', 'name': 'BCCI', 'id': 185142711, 'id_str': '185142711', 'indices': [0, 5]}], 'urls': []}, metadata={'iso_language_code': 'en', 'result_type': 'recent'}, source='Twitter for Android', source_url='http://twitter.com/download/android', in_reply_to_status_id=None, in_reply_to_status_id_str=None, in_reply_to_user_id=185142711, in_reply_to_user_id_str='185142711', in_reply_to_screen_name='BCCI', author=User(_api=<tweepy.api.API object at 0x000001198EBC4E08>, _json={'id': 756858955301879808, 'id_str': '756858955301879808', 'name': 'Moon🌙', 'screen_name': 'ChandniGovind', 'location': 'In Your Eyes Right Now', 'description': '𝑨𝒃𝒔𝒐𝒍𝒖𝒕𝒆𝒍𝒚  𝒂  𝑳𝒂𝒛𝒚  𝑺𝒐𝒖𝒍,  𝑩𝒖𝒔𝒚 𝒐𝒏 𝑫𝒓𝒆𝒂𝒎𝒔  𝒃𝒖𝒕  𝒂𝒍𝒘𝒂𝒚𝒔  𝒇𝒓𝒆𝒆  𝒇𝒐𝒓  𝒈𝒂𝒎𝒆𝒔  𝒂𝒏𝒅  𝒈𝒐𝒔𝒔𝒊𝒑𝒔...\\n❤🍝🤳😴', 'url': None, 'entities': {'description': {'urls': []}}, 'protected': False, 'followers_count': 1003, 'friends_count': 253, 'listed_count': 4, 'created_at': 'Sat Jul 23 14:30:11 +0000 2016', 'favourites_count': 109560, 'utc_offset': None, 'time_zone': None, 'geo_enabled': True, 'verified': False, 'statuses_count': 89768, 'lang': None, 'contributors_enabled': False, 'is_translator': False, 'is_translation_enabled': False, 'profile_background_color': 'F5F8FA', 'profile_background_image_url': None, 'profile_background_image_url_https': None, 'profile_background_tile': False, 'profile_image_url': 'http://pbs.twimg.com/profile_images/1328531388354576385/tX0usG98_normal.jpg', 'profile_image_url_https': 'https://pbs.twimg.com/profile_images/1328531388354576385/tX0usG98_normal.jpg', 'profile_banner_url': 'https://pbs.twimg.com/profile_banners/756858955301879808/1597457662', 'profile_link_color': '1DA1F2', 'profile_sidebar_border_color': 'C0DEED', 'profile_sidebar_fill_color': 'DDEEF6', 'profile_text_color': '333333', 'profile_use_background_image': True, 'has_extended_profile': True, 'default_profile': True, 'default_profile_image': False, 'following': False, 'follow_request_sent': False, 'notifications': False, 'translator_type': 'none'}, id=756858955301879808, id_str='756858955301879808', name='Moon🌙', screen_name='ChandniGovind', location='In Your Eyes Right Now', description='𝑨𝒃𝒔𝒐𝒍𝒖𝒕𝒆𝒍𝒚  𝒂  𝑳𝒂𝒛𝒚  𝑺𝒐𝒖𝒍,  𝑩𝒖𝒔𝒚 𝒐𝒏 𝑫𝒓𝒆𝒂𝒎𝒔  𝒃𝒖𝒕  𝒂𝒍𝒘𝒂𝒚𝒔  𝒇𝒓𝒆𝒆  𝒇𝒐𝒓  𝒈𝒂𝒎𝒆𝒔  𝒂𝒏𝒅  𝒈𝒐𝒔𝒔𝒊𝒑𝒔...\\n❤🍝🤳😴', url=None, entities={'description': {'urls': []}}, protected=False, followers_count=1003, friends_count=253, listed_count=4, created_at=datetime.datetime(2016, 7, 23, 14, 30, 11), favourites_count=109560, utc_offset=None, time_zone=None, geo_enabled=True, verified=False, statuses_count=89768, lang=None, contributors_enabled=False, is_translator=False, is_translation_enabled=False, profile_background_color='F5F8FA', profile_background_image_url=None, profile_background_image_url_https=None, profile_background_tile=False, profile_image_url='http://pbs.twimg.com/profile_images/1328531388354576385/tX0usG98_normal.jpg', profile_image_url_https='https://pbs.twimg.com/profile_images/1328531388354576385/tX0usG98_normal.jpg', profile_banner_url='https://pbs.twimg.com/profile_banners/756858955301879808/1597457662', profile_link_color='1DA1F2', profile_sidebar_border_color='C0DEED', profile_sidebar_fill_color='DDEEF6', profile_text_color='333333', profile_use_background_image=True, has_extended_profile=True, default_profile=True, default_profile_image=False, following=False, follow_request_sent=False, notifications=False, translator_type='none'), user=User(_api=<tweepy.api.API object at 0x000001198EBC4E08>, _json={'id': 756858955301879808, 'id_str': '756858955301879808', 'name': 'Moon🌙', 'screen_name': 'ChandniGovind', 'location': 'In Your Eyes Right Now', 'description': '𝑨𝒃𝒔𝒐𝒍𝒖𝒕𝒆𝒍𝒚  𝒂  𝑳𝒂𝒛𝒚  𝑺𝒐𝒖𝒍,  𝑩𝒖𝒔𝒚 𝒐𝒏 𝑫𝒓𝒆𝒂𝒎𝒔  𝒃𝒖𝒕  𝒂𝒍𝒘𝒂𝒚𝒔  𝒇𝒓𝒆𝒆  𝒇𝒐𝒓  𝒈𝒂𝒎𝒆𝒔  𝒂𝒏𝒅  𝒈𝒐𝒔𝒔𝒊𝒑𝒔...\\n❤🍝🤳😴', 'url': None, 'entities': {'description': {'urls': []}}, 'protected': False, 'followers_count': 1003, 'friends_count': 253, 'listed_count': 4, 'created_at': 'Sat Jul 23 14:30:11 +0000 2016', 'favourites_count': 109560, 'utc_offset': None, 'time_zone': None, 'geo_enabled': True, 'verified': False, 'statuses_count': 89768, 'lang': None, 'contributors_enabled': False, 'is_translator': False, 'is_translation_enabled': False, 'profile_background_color': 'F5F8FA', 'profile_background_image_url': None, 'profile_background_image_url_https': None, 'profile_background_tile': False, 'profile_image_url': 'http://pbs.twimg.com/profile_images/1328531388354576385/tX0usG98_normal.jpg', 'profile_image_url_https': 'https://pbs.twimg.com/profile_images/1328531388354576385/tX0usG98_normal.jpg', 'profile_banner_url': 'https://pbs.twimg.com/profile_banners/756858955301879808/1597457662', 'profile_link_color': '1DA1F2', 'profile_sidebar_border_color': 'C0DEED', 'profile_sidebar_fill_color': 'DDEEF6', 'profile_text_color': '333333', 'profile_use_background_image': True, 'has_extended_profile': True, 'default_profile': True, 'default_profile_image': False, 'following': False, 'follow_request_sent': False, 'notifications': False, 'translator_type': 'none'}, id=756858955301879808, id_str='756858955301879808', name='Moon🌙', screen_name='ChandniGovind', location='In Your Eyes Right Now', description='𝑨𝒃𝒔𝒐𝒍𝒖𝒕𝒆𝒍𝒚  𝒂  𝑳𝒂𝒛𝒚  𝑺𝒐𝒖𝒍,  𝑩𝒖𝒔𝒚 𝒐𝒏 𝑫𝒓𝒆𝒂𝒎𝒔  𝒃𝒖𝒕  𝒂𝒍𝒘𝒂𝒚𝒔  𝒇𝒓𝒆𝒆  𝒇𝒐𝒓  𝒈𝒂𝒎𝒆𝒔  𝒂𝒏𝒅  𝒈𝒐𝒔𝒔𝒊𝒑𝒔...\\n❤🍝🤳😴', url=None, entities={'description': {'urls': []}}, protected=False, followers_count=1003, friends_count=253, listed_count=4, created_at=datetime.datetime(2016, 7, 23, 14, 30, 11), favourites_count=109560, utc_offset=None, time_zone=None, geo_enabled=True, verified=False, statuses_count=89768, lang=None, contributors_enabled=False, is_translator=False, is_translation_enabled=False, profile_background_color='F5F8FA', profile_background_image_url=None, profile_background_image_url_https=None, profile_background_tile=False, profile_image_url='http://pbs.twimg.com/profile_images/1328531388354576385/tX0usG98_normal.jpg', profile_image_url_https='https://pbs.twimg.com/profile_images/1328531388354576385/tX0usG98_normal.jpg', profile_banner_url='https://pbs.twimg.com/profile_banners/756858955301879808/1597457662', profile_link_color='1DA1F2', profile_sidebar_border_color='C0DEED', profile_sidebar_fill_color='DDEEF6', profile_text_color='333333', profile_use_background_image=True, has_extended_profile=True, default_profile=True, default_profile_image=False, following=False, follow_request_sent=False, notifications=False, translator_type='none'), geo=None, coordinates=None, place=None, contributors=None, is_quote_status=False, retweet_count=0, favorite_count=1, favorited=False, retweeted=False, lang='en') \n",
      "\n",
      "...........................................................\n",
      "\n",
      "Status(_api=<tweepy.api.API object at 0x000001198EBC4E08>, _json={'created_at': 'Tue Nov 10 17:32:26 +0000 2020', 'id': 1326216159453081601, 'id_str': '1326216159453081601', 'full_text': '@tiwarialok91 Yeah..virat ke itna fit hone ke bavajood..RCB har gai\\nAur Rohit Sharma ...looks so unfit.  Still pulling of victory is commendable', 'truncated': False, 'display_text_range': [14, 144], 'entities': {'hashtags': [], 'symbols': [], 'user_mentions': [{'screen_name': 'tiwarialok91', 'name': 'Alok Baba', 'id': 40867791, 'id_str': '40867791', 'indices': [0, 13]}], 'urls': []}, 'metadata': {'iso_language_code': 'en', 'result_type': 'recent'}, 'source': '<a href=\"http://twitter.com/download/android\" rel=\"nofollow\">Twitter for Android</a>', 'in_reply_to_status_id': 1326215499219304449, 'in_reply_to_status_id_str': '1326215499219304449', 'in_reply_to_user_id': 40867791, 'in_reply_to_user_id_str': '40867791', 'in_reply_to_screen_name': 'tiwarialok91', 'user': {'id': 868858347457396737, 'id_str': '868858347457396737', 'name': 'आत्मनिर्भर राnu | Raनू | 🇮🇳❤🇮🇳', 'screen_name': 'R_TrivediBorkar', 'location': 'Bharat', 'description': 'अयं निजः परो वैति गणना लघुचेतसाम् ।\\nउदारचरितानान्तु वसुधैव कुटुम्बकम् ॥\\nजय भारत!\\n🙏🏼🙏🏼🚩🚩| 🖤', 'url': None, 'entities': {'description': {'urls': []}}, 'protected': False, 'followers_count': 397, 'friends_count': 508, 'listed_count': 0, 'created_at': 'Sun May 28 15:55:47 +0000 2017', 'favourites_count': 57089, 'utc_offset': None, 'time_zone': None, 'geo_enabled': False, 'verified': False, 'statuses_count': 13980, 'lang': None, 'contributors_enabled': False, 'is_translator': False, 'is_translation_enabled': False, 'profile_background_color': 'F5F8FA', 'profile_background_image_url': None, 'profile_background_image_url_https': None, 'profile_background_tile': False, 'profile_image_url': 'http://pbs.twimg.com/profile_images/1328036852150931456/eQ7GhQ4r_normal.jpg', 'profile_image_url_https': 'https://pbs.twimg.com/profile_images/1328036852150931456/eQ7GhQ4r_normal.jpg', 'profile_banner_url': 'https://pbs.twimg.com/profile_banners/868858347457396737/1605145853', 'profile_link_color': '1DA1F2', 'profile_sidebar_border_color': 'C0DEED', 'profile_sidebar_fill_color': 'DDEEF6', 'profile_text_color': '333333', 'profile_use_background_image': True, 'has_extended_profile': True, 'default_profile': True, 'default_profile_image': False, 'following': False, 'follow_request_sent': False, 'notifications': False, 'translator_type': 'none'}, 'geo': None, 'coordinates': None, 'place': None, 'contributors': None, 'is_quote_status': False, 'retweet_count': 0, 'favorite_count': 1, 'favorited': False, 'retweeted': False, 'lang': 'en'}, created_at=datetime.datetime(2020, 11, 10, 17, 32, 26), id=1326216159453081601, id_str='1326216159453081601', full_text='@tiwarialok91 Yeah..virat ke itna fit hone ke bavajood..RCB har gai\\nAur Rohit Sharma ...looks so unfit.  Still pulling of victory is commendable', truncated=False, display_text_range=[14, 144], entities={'hashtags': [], 'symbols': [], 'user_mentions': [{'screen_name': 'tiwarialok91', 'name': 'Alok Baba', 'id': 40867791, 'id_str': '40867791', 'indices': [0, 13]}], 'urls': []}, metadata={'iso_language_code': 'en', 'result_type': 'recent'}, source='Twitter for Android', source_url='http://twitter.com/download/android', in_reply_to_status_id=1326215499219304449, in_reply_to_status_id_str='1326215499219304449', in_reply_to_user_id=40867791, in_reply_to_user_id_str='40867791', in_reply_to_screen_name='tiwarialok91', author=User(_api=<tweepy.api.API object at 0x000001198EBC4E08>, _json={'id': 868858347457396737, 'id_str': '868858347457396737', 'name': 'आत्मनिर्भर राnu | Raनू | 🇮🇳❤🇮🇳', 'screen_name': 'R_TrivediBorkar', 'location': 'Bharat', 'description': 'अयं निजः परो वैति गणना लघुचेतसाम् ।\\nउदारचरितानान्तु वसुधैव कुटुम्बकम् ॥\\nजय भारत!\\n🙏🏼🙏🏼🚩🚩| 🖤', 'url': None, 'entities': {'description': {'urls': []}}, 'protected': False, 'followers_count': 397, 'friends_count': 508, 'listed_count': 0, 'created_at': 'Sun May 28 15:55:47 +0000 2017', 'favourites_count': 57089, 'utc_offset': None, 'time_zone': None, 'geo_enabled': False, 'verified': False, 'statuses_count': 13980, 'lang': None, 'contributors_enabled': False, 'is_translator': False, 'is_translation_enabled': False, 'profile_background_color': 'F5F8FA', 'profile_background_image_url': None, 'profile_background_image_url_https': None, 'profile_background_tile': False, 'profile_image_url': 'http://pbs.twimg.com/profile_images/1328036852150931456/eQ7GhQ4r_normal.jpg', 'profile_image_url_https': 'https://pbs.twimg.com/profile_images/1328036852150931456/eQ7GhQ4r_normal.jpg', 'profile_banner_url': 'https://pbs.twimg.com/profile_banners/868858347457396737/1605145853', 'profile_link_color': '1DA1F2', 'profile_sidebar_border_color': 'C0DEED', 'profile_sidebar_fill_color': 'DDEEF6', 'profile_text_color': '333333', 'profile_use_background_image': True, 'has_extended_profile': True, 'default_profile': True, 'default_profile_image': False, 'following': False, 'follow_request_sent': False, 'notifications': False, 'translator_type': 'none'}, id=868858347457396737, id_str='868858347457396737', name='आत्मनिर्भर राnu | Raनू | 🇮🇳❤🇮🇳', screen_name='R_TrivediBorkar', location='Bharat', description='अयं निजः परो वैति गणना लघुचेतसाम् ।\\nउदारचरितानान्तु वसुधैव कुटुम्बकम् ॥\\nजय भारत!\\n🙏🏼🙏🏼🚩🚩| 🖤', url=None, entities={'description': {'urls': []}}, protected=False, followers_count=397, friends_count=508, listed_count=0, created_at=datetime.datetime(2017, 5, 28, 15, 55, 47), favourites_count=57089, utc_offset=None, time_zone=None, geo_enabled=False, verified=False, statuses_count=13980, lang=None, contributors_enabled=False, is_translator=False, is_translation_enabled=False, profile_background_color='F5F8FA', profile_background_image_url=None, profile_background_image_url_https=None, profile_background_tile=False, profile_image_url='http://pbs.twimg.com/profile_images/1328036852150931456/eQ7GhQ4r_normal.jpg', profile_image_url_https='https://pbs.twimg.com/profile_images/1328036852150931456/eQ7GhQ4r_normal.jpg', profile_banner_url='https://pbs.twimg.com/profile_banners/868858347457396737/1605145853', profile_link_color='1DA1F2', profile_sidebar_border_color='C0DEED', profile_sidebar_fill_color='DDEEF6', profile_text_color='333333', profile_use_background_image=True, has_extended_profile=True, default_profile=True, default_profile_image=False, following=False, follow_request_sent=False, notifications=False, translator_type='none'), user=User(_api=<tweepy.api.API object at 0x000001198EBC4E08>, _json={'id': 868858347457396737, 'id_str': '868858347457396737', 'name': 'आत्मनिर्भर राnu | Raनू | 🇮🇳❤🇮🇳', 'screen_name': 'R_TrivediBorkar', 'location': 'Bharat', 'description': 'अयं निजः परो वैति गणना लघुचेतसाम् ।\\nउदारचरितानान्तु वसुधैव कुटुम्बकम् ॥\\nजय भारत!\\n🙏🏼🙏🏼🚩🚩| 🖤', 'url': None, 'entities': {'description': {'urls': []}}, 'protected': False, 'followers_count': 397, 'friends_count': 508, 'listed_count': 0, 'created_at': 'Sun May 28 15:55:47 +0000 2017', 'favourites_count': 57089, 'utc_offset': None, 'time_zone': None, 'geo_enabled': False, 'verified': False, 'statuses_count': 13980, 'lang': None, 'contributors_enabled': False, 'is_translator': False, 'is_translation_enabled': False, 'profile_background_color': 'F5F8FA', 'profile_background_image_url': None, 'profile_background_image_url_https': None, 'profile_background_tile': False, 'profile_image_url': 'http://pbs.twimg.com/profile_images/1328036852150931456/eQ7GhQ4r_normal.jpg', 'profile_image_url_https': 'https://pbs.twimg.com/profile_images/1328036852150931456/eQ7GhQ4r_normal.jpg', 'profile_banner_url': 'https://pbs.twimg.com/profile_banners/868858347457396737/1605145853', 'profile_link_color': '1DA1F2', 'profile_sidebar_border_color': 'C0DEED', 'profile_sidebar_fill_color': 'DDEEF6', 'profile_text_color': '333333', 'profile_use_background_image': True, 'has_extended_profile': True, 'default_profile': True, 'default_profile_image': False, 'following': False, 'follow_request_sent': False, 'notifications': False, 'translator_type': 'none'}, id=868858347457396737, id_str='868858347457396737', name='आत्मनिर्भर राnu | Raनू | 🇮🇳❤🇮🇳', screen_name='R_TrivediBorkar', location='Bharat', description='अयं निजः परो वैति गणना लघुचेतसाम् ।\\nउदारचरितानान्तु वसुधैव कुटुम्बकम् ॥\\nजय भारत!\\n🙏🏼🙏🏼🚩🚩| 🖤', url=None, entities={'description': {'urls': []}}, protected=False, followers_count=397, friends_count=508, listed_count=0, created_at=datetime.datetime(2017, 5, 28, 15, 55, 47), favourites_count=57089, utc_offset=None, time_zone=None, geo_enabled=False, verified=False, statuses_count=13980, lang=None, contributors_enabled=False, is_translator=False, is_translation_enabled=False, profile_background_color='F5F8FA', profile_background_image_url=None, profile_background_image_url_https=None, profile_background_tile=False, profile_image_url='http://pbs.twimg.com/profile_images/1328036852150931456/eQ7GhQ4r_normal.jpg', profile_image_url_https='https://pbs.twimg.com/profile_images/1328036852150931456/eQ7GhQ4r_normal.jpg', profile_banner_url='https://pbs.twimg.com/profile_banners/868858347457396737/1605145853', profile_link_color='1DA1F2', profile_sidebar_border_color='C0DEED', profile_sidebar_fill_color='DDEEF6', profile_text_color='333333', profile_use_background_image=True, has_extended_profile=True, default_profile=True, default_profile_image=False, following=False, follow_request_sent=False, notifications=False, translator_type='none'), geo=None, coordinates=None, place=None, contributors=None, is_quote_status=False, retweet_count=0, favorite_count=1, favorited=False, retweeted=False, lang='en') \n",
      "\n",
      "...........................................................\n",
      "\n",
      "Status(_api=<tweepy.api.API object at 0x000001198EBC4E08>, _json={'created_at': 'Tue Nov 10 17:30:55 +0000 2020', 'id': 1326215774101405696, 'id_str': '1326215774101405696', 'full_text': '@SGanguly99 \\nWhat else Rohit Sharma has do to prove that he is fit for entire tour.\\nIs he UNFIT or MISFIT', 'truncated': False, 'display_text_range': [0, 105], 'entities': {'hashtags': [], 'symbols': [], 'user_mentions': [{'screen_name': 'SGanguly99', 'name': 'Sourav Ganguly', 'id': 2708915372, 'id_str': '2708915372', 'indices': [0, 11]}], 'urls': []}, 'metadata': {'iso_language_code': 'en', 'result_type': 'recent'}, 'source': '<a href=\"http://twitter.com/download/android\" rel=\"nofollow\">Twitter for Android</a>', 'in_reply_to_status_id': None, 'in_reply_to_status_id_str': None, 'in_reply_to_user_id': 2708915372, 'in_reply_to_user_id_str': '2708915372', 'in_reply_to_screen_name': 'SGanguly99', 'user': {'id': 823461208288362497, 'id_str': '823461208288362497', 'name': 'Nawal K Saksena', 'screen_name': 'NawalSaksena', 'location': 'लखनऊ, भारत', 'description': '', 'url': None, 'entities': {'description': {'urls': []}}, 'protected': False, 'followers_count': 27, 'friends_count': 24, 'listed_count': 0, 'created_at': 'Mon Jan 23 09:23:46 +0000 2017', 'favourites_count': 2, 'utc_offset': None, 'time_zone': None, 'geo_enabled': True, 'verified': False, 'statuses_count': 65, 'lang': None, 'contributors_enabled': False, 'is_translator': False, 'is_translation_enabled': False, 'profile_background_color': 'F5F8FA', 'profile_background_image_url': None, 'profile_background_image_url_https': None, 'profile_background_tile': False, 'profile_image_url': 'http://pbs.twimg.com/profile_images/1113029531047096320/B4-KjbEk_normal.jpg', 'profile_image_url_https': 'https://pbs.twimg.com/profile_images/1113029531047096320/B4-KjbEk_normal.jpg', 'profile_link_color': '1DA1F2', 'profile_sidebar_border_color': 'C0DEED', 'profile_sidebar_fill_color': 'DDEEF6', 'profile_text_color': '333333', 'profile_use_background_image': True, 'has_extended_profile': True, 'default_profile': True, 'default_profile_image': False, 'following': False, 'follow_request_sent': False, 'notifications': False, 'translator_type': 'none'}, 'geo': None, 'coordinates': None, 'place': None, 'contributors': None, 'is_quote_status': False, 'retweet_count': 0, 'favorite_count': 0, 'favorited': False, 'retweeted': False, 'lang': 'en'}, created_at=datetime.datetime(2020, 11, 10, 17, 30, 55), id=1326215774101405696, id_str='1326215774101405696', full_text='@SGanguly99 \\nWhat else Rohit Sharma has do to prove that he is fit for entire tour.\\nIs he UNFIT or MISFIT', truncated=False, display_text_range=[0, 105], entities={'hashtags': [], 'symbols': [], 'user_mentions': [{'screen_name': 'SGanguly99', 'name': 'Sourav Ganguly', 'id': 2708915372, 'id_str': '2708915372', 'indices': [0, 11]}], 'urls': []}, metadata={'iso_language_code': 'en', 'result_type': 'recent'}, source='Twitter for Android', source_url='http://twitter.com/download/android', in_reply_to_status_id=None, in_reply_to_status_id_str=None, in_reply_to_user_id=2708915372, in_reply_to_user_id_str='2708915372', in_reply_to_screen_name='SGanguly99', author=User(_api=<tweepy.api.API object at 0x000001198EBC4E08>, _json={'id': 823461208288362497, 'id_str': '823461208288362497', 'name': 'Nawal K Saksena', 'screen_name': 'NawalSaksena', 'location': 'लखनऊ, भारत', 'description': '', 'url': None, 'entities': {'description': {'urls': []}}, 'protected': False, 'followers_count': 27, 'friends_count': 24, 'listed_count': 0, 'created_at': 'Mon Jan 23 09:23:46 +0000 2017', 'favourites_count': 2, 'utc_offset': None, 'time_zone': None, 'geo_enabled': True, 'verified': False, 'statuses_count': 65, 'lang': None, 'contributors_enabled': False, 'is_translator': False, 'is_translation_enabled': False, 'profile_background_color': 'F5F8FA', 'profile_background_image_url': None, 'profile_background_image_url_https': None, 'profile_background_tile': False, 'profile_image_url': 'http://pbs.twimg.com/profile_images/1113029531047096320/B4-KjbEk_normal.jpg', 'profile_image_url_https': 'https://pbs.twimg.com/profile_images/1113029531047096320/B4-KjbEk_normal.jpg', 'profile_link_color': '1DA1F2', 'profile_sidebar_border_color': 'C0DEED', 'profile_sidebar_fill_color': 'DDEEF6', 'profile_text_color': '333333', 'profile_use_background_image': True, 'has_extended_profile': True, 'default_profile': True, 'default_profile_image': False, 'following': False, 'follow_request_sent': False, 'notifications': False, 'translator_type': 'none'}, id=823461208288362497, id_str='823461208288362497', name='Nawal K Saksena', screen_name='NawalSaksena', location='लखनऊ, भारत', description='', url=None, entities={'description': {'urls': []}}, protected=False, followers_count=27, friends_count=24, listed_count=0, created_at=datetime.datetime(2017, 1, 23, 9, 23, 46), favourites_count=2, utc_offset=None, time_zone=None, geo_enabled=True, verified=False, statuses_count=65, lang=None, contributors_enabled=False, is_translator=False, is_translation_enabled=False, profile_background_color='F5F8FA', profile_background_image_url=None, profile_background_image_url_https=None, profile_background_tile=False, profile_image_url='http://pbs.twimg.com/profile_images/1113029531047096320/B4-KjbEk_normal.jpg', profile_image_url_https='https://pbs.twimg.com/profile_images/1113029531047096320/B4-KjbEk_normal.jpg', profile_link_color='1DA1F2', profile_sidebar_border_color='C0DEED', profile_sidebar_fill_color='DDEEF6', profile_text_color='333333', profile_use_background_image=True, has_extended_profile=True, default_profile=True, default_profile_image=False, following=False, follow_request_sent=False, notifications=False, translator_type='none'), user=User(_api=<tweepy.api.API object at 0x000001198EBC4E08>, _json={'id': 823461208288362497, 'id_str': '823461208288362497', 'name': 'Nawal K Saksena', 'screen_name': 'NawalSaksena', 'location': 'लखनऊ, भारत', 'description': '', 'url': None, 'entities': {'description': {'urls': []}}, 'protected': False, 'followers_count': 27, 'friends_count': 24, 'listed_count': 0, 'created_at': 'Mon Jan 23 09:23:46 +0000 2017', 'favourites_count': 2, 'utc_offset': None, 'time_zone': None, 'geo_enabled': True, 'verified': False, 'statuses_count': 65, 'lang': None, 'contributors_enabled': False, 'is_translator': False, 'is_translation_enabled': False, 'profile_background_color': 'F5F8FA', 'profile_background_image_url': None, 'profile_background_image_url_https': None, 'profile_background_tile': False, 'profile_image_url': 'http://pbs.twimg.com/profile_images/1113029531047096320/B4-KjbEk_normal.jpg', 'profile_image_url_https': 'https://pbs.twimg.com/profile_images/1113029531047096320/B4-KjbEk_normal.jpg', 'profile_link_color': '1DA1F2', 'profile_sidebar_border_color': 'C0DEED', 'profile_sidebar_fill_color': 'DDEEF6', 'profile_text_color': '333333', 'profile_use_background_image': True, 'has_extended_profile': True, 'default_profile': True, 'default_profile_image': False, 'following': False, 'follow_request_sent': False, 'notifications': False, 'translator_type': 'none'}, id=823461208288362497, id_str='823461208288362497', name='Nawal K Saksena', screen_name='NawalSaksena', location='लखनऊ, भारत', description='', url=None, entities={'description': {'urls': []}}, protected=False, followers_count=27, friends_count=24, listed_count=0, created_at=datetime.datetime(2017, 1, 23, 9, 23, 46), favourites_count=2, utc_offset=None, time_zone=None, geo_enabled=True, verified=False, statuses_count=65, lang=None, contributors_enabled=False, is_translator=False, is_translation_enabled=False, profile_background_color='F5F8FA', profile_background_image_url=None, profile_background_image_url_https=None, profile_background_tile=False, profile_image_url='http://pbs.twimg.com/profile_images/1113029531047096320/B4-KjbEk_normal.jpg', profile_image_url_https='https://pbs.twimg.com/profile_images/1113029531047096320/B4-KjbEk_normal.jpg', profile_link_color='1DA1F2', profile_sidebar_border_color='C0DEED', profile_sidebar_fill_color='DDEEF6', profile_text_color='333333', profile_use_background_image=True, has_extended_profile=True, default_profile=True, default_profile_image=False, following=False, follow_request_sent=False, notifications=False, translator_type='none'), geo=None, coordinates=None, place=None, contributors=None, is_quote_status=False, retweet_count=0, favorite_count=0, favorited=False, retweeted=False, lang='en') \n",
      "\n",
      "...........................................................\n",
      "\n",
      "Status(_api=<tweepy.api.API object at 0x000001198EBC4E08>, _json={'created_at': 'Tue Nov 10 17:29:03 +0000 2020', 'id': 1326215306923057152, 'id_str': '1326215306923057152', 'full_text': 'Mumbai Indians all the way 😍😍\\nFor the fifth Title  #IPLfinal #MIvsDC #mumbaiindians \\nAur kya bol rahe the selectors.. Rohit is unfit for T20 n ODI 🤨\\nBefitting reply from the captain Sharma 😎', 'truncated': False, 'display_text_range': [0, 190], 'entities': {'hashtags': [{'text': 'IPLfinal', 'indices': [51, 60]}, {'text': 'MIvsDC', 'indices': [61, 68]}, {'text': 'mumbaiindians', 'indices': [69, 83]}], 'symbols': [], 'user_mentions': [], 'urls': []}, 'metadata': {'iso_language_code': 'en', 'result_type': 'recent'}, 'source': '<a href=\"http://twitter.com/download/android\" rel=\"nofollow\">Twitter for Android</a>', 'in_reply_to_status_id': None, 'in_reply_to_status_id_str': None, 'in_reply_to_user_id': None, 'in_reply_to_user_id_str': None, 'in_reply_to_screen_name': None, 'user': {'id': 56036022, 'id_str': '56036022', 'name': 'Sharad Tripathi', 'screen_name': 'rajabetasharad', 'location': 'mumbai,allahabad,kanpur', 'description': 'Mad. Crazy. Insomniac. Romantic. Cynical. Insane. Cricket enthusiast. Writer. Poet. Lyricist. Lover... libran..!!', 'url': 'https://t.co/bELlOAHUj9', 'entities': {'url': {'urls': [{'url': 'https://t.co/bELlOAHUj9', 'expanded_url': 'https://www.facebook.com/rajabetasharad', 'display_url': 'facebook.com/rajabetasharad', 'indices': [0, 23]}]}, 'description': {'urls': []}}, 'protected': False, 'followers_count': 7761, 'friends_count': 9, 'listed_count': 10, 'created_at': 'Sun Jul 12 06:33:50 +0000 2009', 'favourites_count': 731, 'utc_offset': None, 'time_zone': None, 'geo_enabled': False, 'verified': False, 'statuses_count': 4522, 'lang': None, 'contributors_enabled': False, 'is_translator': False, 'is_translation_enabled': False, 'profile_background_color': 'C0DEED', 'profile_background_image_url': 'http://abs.twimg.com/images/themes/theme1/bg.png', 'profile_background_image_url_https': 'https://abs.twimg.com/images/themes/theme1/bg.png', 'profile_background_tile': False, 'profile_image_url': 'http://pbs.twimg.com/profile_images/1210225045215170561/WuVcAlLu_normal.jpg', 'profile_image_url_https': 'https://pbs.twimg.com/profile_images/1210225045215170561/WuVcAlLu_normal.jpg', 'profile_banner_url': 'https://pbs.twimg.com/profile_banners/56036022/1577375172', 'profile_link_color': '0084B4', 'profile_sidebar_border_color': 'FFFFFF', 'profile_sidebar_fill_color': 'DDEEF6', 'profile_text_color': '333333', 'profile_use_background_image': True, 'has_extended_profile': True, 'default_profile': False, 'default_profile_image': False, 'following': False, 'follow_request_sent': False, 'notifications': False, 'translator_type': 'none'}, 'geo': None, 'coordinates': None, 'place': None, 'contributors': None, 'is_quote_status': False, 'retweet_count': 0, 'favorite_count': 2, 'favorited': False, 'retweeted': False, 'lang': 'en'}, created_at=datetime.datetime(2020, 11, 10, 17, 29, 3), id=1326215306923057152, id_str='1326215306923057152', full_text='Mumbai Indians all the way 😍😍\\nFor the fifth Title  #IPLfinal #MIvsDC #mumbaiindians \\nAur kya bol rahe the selectors.. Rohit is unfit for T20 n ODI 🤨\\nBefitting reply from the captain Sharma 😎', truncated=False, display_text_range=[0, 190], entities={'hashtags': [{'text': 'IPLfinal', 'indices': [51, 60]}, {'text': 'MIvsDC', 'indices': [61, 68]}, {'text': 'mumbaiindians', 'indices': [69, 83]}], 'symbols': [], 'user_mentions': [], 'urls': []}, metadata={'iso_language_code': 'en', 'result_type': 'recent'}, source='Twitter for Android', source_url='http://twitter.com/download/android', in_reply_to_status_id=None, in_reply_to_status_id_str=None, in_reply_to_user_id=None, in_reply_to_user_id_str=None, in_reply_to_screen_name=None, author=User(_api=<tweepy.api.API object at 0x000001198EBC4E08>, _json={'id': 56036022, 'id_str': '56036022', 'name': 'Sharad Tripathi', 'screen_name': 'rajabetasharad', 'location': 'mumbai,allahabad,kanpur', 'description': 'Mad. Crazy. Insomniac. Romantic. Cynical. Insane. Cricket enthusiast. Writer. Poet. Lyricist. Lover... libran..!!', 'url': 'https://t.co/bELlOAHUj9', 'entities': {'url': {'urls': [{'url': 'https://t.co/bELlOAHUj9', 'expanded_url': 'https://www.facebook.com/rajabetasharad', 'display_url': 'facebook.com/rajabetasharad', 'indices': [0, 23]}]}, 'description': {'urls': []}}, 'protected': False, 'followers_count': 7761, 'friends_count': 9, 'listed_count': 10, 'created_at': 'Sun Jul 12 06:33:50 +0000 2009', 'favourites_count': 731, 'utc_offset': None, 'time_zone': None, 'geo_enabled': False, 'verified': False, 'statuses_count': 4522, 'lang': None, 'contributors_enabled': False, 'is_translator': False, 'is_translation_enabled': False, 'profile_background_color': 'C0DEED', 'profile_background_image_url': 'http://abs.twimg.com/images/themes/theme1/bg.png', 'profile_background_image_url_https': 'https://abs.twimg.com/images/themes/theme1/bg.png', 'profile_background_tile': False, 'profile_image_url': 'http://pbs.twimg.com/profile_images/1210225045215170561/WuVcAlLu_normal.jpg', 'profile_image_url_https': 'https://pbs.twimg.com/profile_images/1210225045215170561/WuVcAlLu_normal.jpg', 'profile_banner_url': 'https://pbs.twimg.com/profile_banners/56036022/1577375172', 'profile_link_color': '0084B4', 'profile_sidebar_border_color': 'FFFFFF', 'profile_sidebar_fill_color': 'DDEEF6', 'profile_text_color': '333333', 'profile_use_background_image': True, 'has_extended_profile': True, 'default_profile': False, 'default_profile_image': False, 'following': False, 'follow_request_sent': False, 'notifications': False, 'translator_type': 'none'}, id=56036022, id_str='56036022', name='Sharad Tripathi', screen_name='rajabetasharad', location='mumbai,allahabad,kanpur', description='Mad. Crazy. Insomniac. Romantic. Cynical. Insane. Cricket enthusiast. Writer. Poet. Lyricist. Lover... libran..!!', url='https://t.co/bELlOAHUj9', entities={'url': {'urls': [{'url': 'https://t.co/bELlOAHUj9', 'expanded_url': 'https://www.facebook.com/rajabetasharad', 'display_url': 'facebook.com/rajabetasharad', 'indices': [0, 23]}]}, 'description': {'urls': []}}, protected=False, followers_count=7761, friends_count=9, listed_count=10, created_at=datetime.datetime(2009, 7, 12, 6, 33, 50), favourites_count=731, utc_offset=None, time_zone=None, geo_enabled=False, verified=False, statuses_count=4522, lang=None, contributors_enabled=False, is_translator=False, is_translation_enabled=False, profile_background_color='C0DEED', profile_background_image_url='http://abs.twimg.com/images/themes/theme1/bg.png', profile_background_image_url_https='https://abs.twimg.com/images/themes/theme1/bg.png', profile_background_tile=False, profile_image_url='http://pbs.twimg.com/profile_images/1210225045215170561/WuVcAlLu_normal.jpg', profile_image_url_https='https://pbs.twimg.com/profile_images/1210225045215170561/WuVcAlLu_normal.jpg', profile_banner_url='https://pbs.twimg.com/profile_banners/56036022/1577375172', profile_link_color='0084B4', profile_sidebar_border_color='FFFFFF', profile_sidebar_fill_color='DDEEF6', profile_text_color='333333', profile_use_background_image=True, has_extended_profile=True, default_profile=False, default_profile_image=False, following=False, follow_request_sent=False, notifications=False, translator_type='none'), user=User(_api=<tweepy.api.API object at 0x000001198EBC4E08>, _json={'id': 56036022, 'id_str': '56036022', 'name': 'Sharad Tripathi', 'screen_name': 'rajabetasharad', 'location': 'mumbai,allahabad,kanpur', 'description': 'Mad. Crazy. Insomniac. Romantic. Cynical. Insane. Cricket enthusiast. Writer. Poet. Lyricist. Lover... libran..!!', 'url': 'https://t.co/bELlOAHUj9', 'entities': {'url': {'urls': [{'url': 'https://t.co/bELlOAHUj9', 'expanded_url': 'https://www.facebook.com/rajabetasharad', 'display_url': 'facebook.com/rajabetasharad', 'indices': [0, 23]}]}, 'description': {'urls': []}}, 'protected': False, 'followers_count': 7761, 'friends_count': 9, 'listed_count': 10, 'created_at': 'Sun Jul 12 06:33:50 +0000 2009', 'favourites_count': 731, 'utc_offset': None, 'time_zone': None, 'geo_enabled': False, 'verified': False, 'statuses_count': 4522, 'lang': None, 'contributors_enabled': False, 'is_translator': False, 'is_translation_enabled': False, 'profile_background_color': 'C0DEED', 'profile_background_image_url': 'http://abs.twimg.com/images/themes/theme1/bg.png', 'profile_background_image_url_https': 'https://abs.twimg.com/images/themes/theme1/bg.png', 'profile_background_tile': False, 'profile_image_url': 'http://pbs.twimg.com/profile_images/1210225045215170561/WuVcAlLu_normal.jpg', 'profile_image_url_https': 'https://pbs.twimg.com/profile_images/1210225045215170561/WuVcAlLu_normal.jpg', 'profile_banner_url': 'https://pbs.twimg.com/profile_banners/56036022/1577375172', 'profile_link_color': '0084B4', 'profile_sidebar_border_color': 'FFFFFF', 'profile_sidebar_fill_color': 'DDEEF6', 'profile_text_color': '333333', 'profile_use_background_image': True, 'has_extended_profile': True, 'default_profile': False, 'default_profile_image': False, 'following': False, 'follow_request_sent': False, 'notifications': False, 'translator_type': 'none'}, id=56036022, id_str='56036022', name='Sharad Tripathi', screen_name='rajabetasharad', location='mumbai,allahabad,kanpur', description='Mad. Crazy. Insomniac. Romantic. Cynical. Insane. Cricket enthusiast. Writer. Poet. Lyricist. Lover... libran..!!', url='https://t.co/bELlOAHUj9', entities={'url': {'urls': [{'url': 'https://t.co/bELlOAHUj9', 'expanded_url': 'https://www.facebook.com/rajabetasharad', 'display_url': 'facebook.com/rajabetasharad', 'indices': [0, 23]}]}, 'description': {'urls': []}}, protected=False, followers_count=7761, friends_count=9, listed_count=10, created_at=datetime.datetime(2009, 7, 12, 6, 33, 50), favourites_count=731, utc_offset=None, time_zone=None, geo_enabled=False, verified=False, statuses_count=4522, lang=None, contributors_enabled=False, is_translator=False, is_translation_enabled=False, profile_background_color='C0DEED', profile_background_image_url='http://abs.twimg.com/images/themes/theme1/bg.png', profile_background_image_url_https='https://abs.twimg.com/images/themes/theme1/bg.png', profile_background_tile=False, profile_image_url='http://pbs.twimg.com/profile_images/1210225045215170561/WuVcAlLu_normal.jpg', profile_image_url_https='https://pbs.twimg.com/profile_images/1210225045215170561/WuVcAlLu_normal.jpg', profile_banner_url='https://pbs.twimg.com/profile_banners/56036022/1577375172', profile_link_color='0084B4', profile_sidebar_border_color='FFFFFF', profile_sidebar_fill_color='DDEEF6', profile_text_color='333333', profile_use_background_image=True, has_extended_profile=True, default_profile=False, default_profile_image=False, following=False, follow_request_sent=False, notifications=False, translator_type='none'), geo=None, coordinates=None, place=None, contributors=None, is_quote_status=False, retweet_count=0, favorite_count=2, favorited=False, retweeted=False, lang='en') \n",
      "\n",
      "...........................................................\n",
      "\n"
     ]
    }
   ],
   "source": [
    "Tweets =api.search(query, count =10, lang = 'en',exclude = 'retweets', tweet_mode ='extended')\n",
    "for tweet in Tweets:\n",
    "    print(tweet,\"\\n\")\n",
    "    print(\"...........................................................\\n\")"
   ]
  },
  {
   "cell_type": "code",
   "execution_count": 6,
   "metadata": {},
   "outputs": [
    {
     "name": "stdout",
     "output_type": "stream",
     "text": [
      "Empty DataFrame\n",
      "Columns: [Tweets, User, User_statuses_count, user_followers, user_location, user-verified, fav_count, rt_count, tweet_date]\n",
      "Index: []\n"
     ]
    }
   ],
   "source": [
    "df = pd.DataFrame(columns = ['Tweets','User','User_statuses_count','user_followers','user_location','user-verified','fav_count','rt_count','tweet_date'])\n",
    "print(df)"
   ]
  },
  {
   "cell_type": "code",
   "execution_count": 7,
   "metadata": {},
   "outputs": [],
   "source": [
    "def stream(data, file_name):\n",
    "    i = 0\n",
    "    for tweet in tweepy.Cursor(api.search, q=data, count=100, lang='en').items():\n",
    "        print(i, end='\\r')\n",
    "        df.loc[i, 'Tweets'] = tweet.text\n",
    "        df.loc[i, 'User'] = tweet.user.name\n",
    "        df.loc[i, 'User_statuses_count'] = tweet.user.statuses_count\n",
    "        df.loc[i, 'user_followers'] = tweet.user.followers_count\n",
    "        df.loc[i, 'User_location'] = tweet.user.location\n",
    "        df.loc[i, 'User_verified'] = tweet.user.verified\n",
    "        df.loc[i, 'fav_count'] = tweet.favorite_count\n",
    "        df.loc[i, 'rt_count'] = tweet.retweet_count\n",
    "        df.loc[i, 'tweet_date'] = tweet.created_at\n",
    "        df.to_excel('{}.xlsx'.format(file_name))\n",
    "        i = i+1\n",
    "        if i == 1000:\n",
    "            break\n",
    "        else:\n",
    "            pass"
   ]
  },
  {
   "cell_type": "code",
   "execution_count": 8,
   "metadata": {},
   "outputs": [
    {
     "name": "stdout",
     "output_type": "stream",
     "text": [
      "51\r"
     ]
    }
   ],
   "source": [
    "stream(data = [\"rohit sharma is unfit\"],file_name = 'my_tweets')"
   ]
  },
  {
   "cell_type": "code",
   "execution_count": 9,
   "metadata": {},
   "outputs": [
    {
     "data": {
      "text/html": [
       "<div>\n",
       "<style scoped>\n",
       "    .dataframe tbody tr th:only-of-type {\n",
       "        vertical-align: middle;\n",
       "    }\n",
       "\n",
       "    .dataframe tbody tr th {\n",
       "        vertical-align: top;\n",
       "    }\n",
       "\n",
       "    .dataframe thead th {\n",
       "        text-align: right;\n",
       "    }\n",
       "</style>\n",
       "<table border=\"1\" class=\"dataframe\">\n",
       "  <thead>\n",
       "    <tr style=\"text-align: right;\">\n",
       "      <th></th>\n",
       "      <th>Tweets</th>\n",
       "      <th>User</th>\n",
       "      <th>User_statuses_count</th>\n",
       "      <th>user_followers</th>\n",
       "      <th>user_location</th>\n",
       "      <th>user-verified</th>\n",
       "      <th>fav_count</th>\n",
       "      <th>rt_count</th>\n",
       "      <th>tweet_date</th>\n",
       "      <th>User_location</th>\n",
       "      <th>User_verified</th>\n",
       "    </tr>\n",
       "  </thead>\n",
       "  <tbody>\n",
       "    <tr>\n",
       "      <th>0</th>\n",
       "      <td>RT @Divyansh_4510: BCCI:- Rohit is not fit\\nMI...</td>\n",
       "      <td>mysore gopinath rao</td>\n",
       "      <td>21</td>\n",
       "      <td>16</td>\n",
       "      <td>NaN</td>\n",
       "      <td>NaN</td>\n",
       "      <td>0</td>\n",
       "      <td>445</td>\n",
       "      <td>2020-11-16 23:02:44</td>\n",
       "      <td></td>\n",
       "      <td>False</td>\n",
       "    </tr>\n",
       "    <tr>\n",
       "      <th>1</th>\n",
       "      <td>RT @SportsCloud3: So Rohit Sharma is unfit..\\n...</td>\n",
       "      <td>j</td>\n",
       "      <td>21718</td>\n",
       "      <td>666</td>\n",
       "      <td>NaN</td>\n",
       "      <td>NaN</td>\n",
       "      <td>0</td>\n",
       "      <td>15</td>\n",
       "      <td>2020-11-16 04:39:43</td>\n",
       "      <td></td>\n",
       "      <td>False</td>\n",
       "    </tr>\n",
       "    <tr>\n",
       "      <th>2</th>\n",
       "      <td>RT @SportsCloud3: So Rohit Sharma is unfit..\\n...</td>\n",
       "      <td>~murali amigo~</td>\n",
       "      <td>5203</td>\n",
       "      <td>278</td>\n",
       "      <td>NaN</td>\n",
       "      <td>NaN</td>\n",
       "      <td>0</td>\n",
       "      <td>15</td>\n",
       "      <td>2020-11-12 12:56:29</td>\n",
       "      <td>Telangana state</td>\n",
       "      <td>False</td>\n",
       "    </tr>\n",
       "    <tr>\n",
       "      <th>3</th>\n",
       "      <td>@imVkohli @BCCI Virat is unfit as captain for ...</td>\n",
       "      <td>Praveen Kumar</td>\n",
       "      <td>4</td>\n",
       "      <td>0</td>\n",
       "      <td>NaN</td>\n",
       "      <td>NaN</td>\n",
       "      <td>24</td>\n",
       "      <td>0</td>\n",
       "      <td>2020-11-12 03:37:58</td>\n",
       "      <td></td>\n",
       "      <td>False</td>\n",
       "    </tr>\n",
       "    <tr>\n",
       "      <th>4</th>\n",
       "      <td>RT @SportsCloud3: So Rohit Sharma is unfit..\\n...</td>\n",
       "      <td>Saiviswanadha</td>\n",
       "      <td>2323</td>\n",
       "      <td>0</td>\n",
       "      <td>NaN</td>\n",
       "      <td>NaN</td>\n",
       "      <td>0</td>\n",
       "      <td>15</td>\n",
       "      <td>2020-11-11 20:15:22</td>\n",
       "      <td></td>\n",
       "      <td>False</td>\n",
       "    </tr>\n",
       "  </tbody>\n",
       "</table>\n",
       "</div>"
      ],
      "text/plain": [
       "                                              Tweets                 User  \\\n",
       "0  RT @Divyansh_4510: BCCI:- Rohit is not fit\\nMI...  mysore gopinath rao   \n",
       "1  RT @SportsCloud3: So Rohit Sharma is unfit..\\n...                    j   \n",
       "2  RT @SportsCloud3: So Rohit Sharma is unfit..\\n...       ~murali amigo~   \n",
       "3  @imVkohli @BCCI Virat is unfit as captain for ...        Praveen Kumar   \n",
       "4  RT @SportsCloud3: So Rohit Sharma is unfit..\\n...        Saiviswanadha   \n",
       "\n",
       "  User_statuses_count user_followers user_location user-verified fav_count  \\\n",
       "0                  21             16           NaN           NaN         0   \n",
       "1               21718            666           NaN           NaN         0   \n",
       "2                5203            278           NaN           NaN         0   \n",
       "3                   4              0           NaN           NaN        24   \n",
       "4                2323              0           NaN           NaN         0   \n",
       "\n",
       "  rt_count           tweet_date     User_location User_verified  \n",
       "0      445  2020-11-16 23:02:44                           False  \n",
       "1       15  2020-11-16 04:39:43                           False  \n",
       "2       15  2020-11-12 12:56:29   Telangana state         False  \n",
       "3        0  2020-11-12 03:37:58                           False  \n",
       "4       15  2020-11-11 20:15:22                           False  "
      ]
     },
     "execution_count": 9,
     "metadata": {},
     "output_type": "execute_result"
    }
   ],
   "source": [
    "df.head()"
   ]
  },
  {
   "cell_type": "code",
   "execution_count": 10,
   "metadata": {},
   "outputs": [],
   "source": [
    "from textblob import TextBlob"
   ]
  },
  {
   "cell_type": "code",
   "execution_count": 11,
   "metadata": {},
   "outputs": [],
   "source": [
    "import re\n",
    "def clean_tweet(tweet):\n",
    "    return ' '.join(re.sub('(@[A-Za-z0-9]+)|([^0-9A-Za-z \\t])|(\\w+:\\/\\/\\S+)', ' ', tweet).split())"
   ]
  },
  {
   "cell_type": "code",
   "execution_count": 12,
   "metadata": {},
   "outputs": [],
   "source": [
    "def analyze_sentiment(tweet):\n",
    "    analysis = TextBlob(tweet)\n",
    "    if analysis.sentiment.polarity > 0:\n",
    "        return 'Positive'\n",
    "    elif analysis.sentiment.polarity == 0:\n",
    "        return 'Neutral'\n",
    "    else:\n",
    "        return 'Negative'"
   ]
  },
  {
   "cell_type": "code",
   "execution_count": 13,
   "metadata": {},
   "outputs": [],
   "source": [
    "df['clean_tweet'] = df['Tweets'].apply(lambda x : clean_tweet(x))"
   ]
  },
  {
   "cell_type": "code",
   "execution_count": 14,
   "metadata": {},
   "outputs": [
    {
     "data": {
      "text/html": [
       "<div>\n",
       "<style scoped>\n",
       "    .dataframe tbody tr th:only-of-type {\n",
       "        vertical-align: middle;\n",
       "    }\n",
       "\n",
       "    .dataframe tbody tr th {\n",
       "        vertical-align: top;\n",
       "    }\n",
       "\n",
       "    .dataframe thead th {\n",
       "        text-align: right;\n",
       "    }\n",
       "</style>\n",
       "<table border=\"1\" class=\"dataframe\">\n",
       "  <thead>\n",
       "    <tr style=\"text-align: right;\">\n",
       "      <th></th>\n",
       "      <th>Tweets</th>\n",
       "      <th>User</th>\n",
       "      <th>User_statuses_count</th>\n",
       "      <th>user_followers</th>\n",
       "      <th>user_location</th>\n",
       "      <th>user-verified</th>\n",
       "      <th>fav_count</th>\n",
       "      <th>rt_count</th>\n",
       "      <th>tweet_date</th>\n",
       "      <th>User_location</th>\n",
       "      <th>User_verified</th>\n",
       "      <th>clean_tweet</th>\n",
       "    </tr>\n",
       "  </thead>\n",
       "  <tbody>\n",
       "    <tr>\n",
       "      <th>0</th>\n",
       "      <td>RT @Divyansh_4510: BCCI:- Rohit is not fit\\nMI...</td>\n",
       "      <td>mysore gopinath rao</td>\n",
       "      <td>21</td>\n",
       "      <td>16</td>\n",
       "      <td>NaN</td>\n",
       "      <td>NaN</td>\n",
       "      <td>0</td>\n",
       "      <td>445</td>\n",
       "      <td>2020-11-16 23:02:44</td>\n",
       "      <td></td>\n",
       "      <td>False</td>\n",
       "      <td>RT 4510 BCCI Rohit is not fit MI Rohit is in t...</td>\n",
       "    </tr>\n",
       "    <tr>\n",
       "      <th>1</th>\n",
       "      <td>RT @SportsCloud3: So Rohit Sharma is unfit..\\n...</td>\n",
       "      <td>j</td>\n",
       "      <td>21718</td>\n",
       "      <td>666</td>\n",
       "      <td>NaN</td>\n",
       "      <td>NaN</td>\n",
       "      <td>0</td>\n",
       "      <td>15</td>\n",
       "      <td>2020-11-16 04:39:43</td>\n",
       "      <td></td>\n",
       "      <td>False</td>\n",
       "      <td>RT So Rohit Sharma is unfit This is how unfit ...</td>\n",
       "    </tr>\n",
       "    <tr>\n",
       "      <th>2</th>\n",
       "      <td>RT @SportsCloud3: So Rohit Sharma is unfit..\\n...</td>\n",
       "      <td>~murali amigo~</td>\n",
       "      <td>5203</td>\n",
       "      <td>278</td>\n",
       "      <td>NaN</td>\n",
       "      <td>NaN</td>\n",
       "      <td>0</td>\n",
       "      <td>15</td>\n",
       "      <td>2020-11-12 12:56:29</td>\n",
       "      <td>Telangana state</td>\n",
       "      <td>False</td>\n",
       "      <td>RT So Rohit Sharma is unfit This is how unfit ...</td>\n",
       "    </tr>\n",
       "    <tr>\n",
       "      <th>3</th>\n",
       "      <td>@imVkohli @BCCI Virat is unfit as captain for ...</td>\n",
       "      <td>Praveen Kumar</td>\n",
       "      <td>4</td>\n",
       "      <td>0</td>\n",
       "      <td>NaN</td>\n",
       "      <td>NaN</td>\n",
       "      <td>24</td>\n",
       "      <td>0</td>\n",
       "      <td>2020-11-12 03:37:58</td>\n",
       "      <td></td>\n",
       "      <td>False</td>\n",
       "      <td>Virat is unfit as captain for India team espec...</td>\n",
       "    </tr>\n",
       "    <tr>\n",
       "      <th>4</th>\n",
       "      <td>RT @SportsCloud3: So Rohit Sharma is unfit..\\n...</td>\n",
       "      <td>Saiviswanadha</td>\n",
       "      <td>2323</td>\n",
       "      <td>0</td>\n",
       "      <td>NaN</td>\n",
       "      <td>NaN</td>\n",
       "      <td>0</td>\n",
       "      <td>15</td>\n",
       "      <td>2020-11-11 20:15:22</td>\n",
       "      <td></td>\n",
       "      <td>False</td>\n",
       "      <td>RT So Rohit Sharma is unfit This is how unfit ...</td>\n",
       "    </tr>\n",
       "  </tbody>\n",
       "</table>\n",
       "</div>"
      ],
      "text/plain": [
       "                                              Tweets                 User  \\\n",
       "0  RT @Divyansh_4510: BCCI:- Rohit is not fit\\nMI...  mysore gopinath rao   \n",
       "1  RT @SportsCloud3: So Rohit Sharma is unfit..\\n...                    j   \n",
       "2  RT @SportsCloud3: So Rohit Sharma is unfit..\\n...       ~murali amigo~   \n",
       "3  @imVkohli @BCCI Virat is unfit as captain for ...        Praveen Kumar   \n",
       "4  RT @SportsCloud3: So Rohit Sharma is unfit..\\n...        Saiviswanadha   \n",
       "\n",
       "  User_statuses_count user_followers user_location user-verified fav_count  \\\n",
       "0                  21             16           NaN           NaN         0   \n",
       "1               21718            666           NaN           NaN         0   \n",
       "2                5203            278           NaN           NaN         0   \n",
       "3                   4              0           NaN           NaN        24   \n",
       "4                2323              0           NaN           NaN         0   \n",
       "\n",
       "  rt_count           tweet_date     User_location User_verified  \\\n",
       "0      445  2020-11-16 23:02:44                           False   \n",
       "1       15  2020-11-16 04:39:43                           False   \n",
       "2       15  2020-11-12 12:56:29   Telangana state         False   \n",
       "3        0  2020-11-12 03:37:58                           False   \n",
       "4       15  2020-11-11 20:15:22                           False   \n",
       "\n",
       "                                         clean_tweet  \n",
       "0  RT 4510 BCCI Rohit is not fit MI Rohit is in t...  \n",
       "1  RT So Rohit Sharma is unfit This is how unfit ...  \n",
       "2  RT So Rohit Sharma is unfit This is how unfit ...  \n",
       "3  Virat is unfit as captain for India team espec...  \n",
       "4  RT So Rohit Sharma is unfit This is how unfit ...  "
      ]
     },
     "execution_count": 14,
     "metadata": {},
     "output_type": "execute_result"
    }
   ],
   "source": [
    "df.head()"
   ]
  },
  {
   "cell_type": "code",
   "execution_count": 15,
   "metadata": {},
   "outputs": [
    {
     "data": {
      "text/html": [
       "<div>\n",
       "<style scoped>\n",
       "    .dataframe tbody tr th:only-of-type {\n",
       "        vertical-align: middle;\n",
       "    }\n",
       "\n",
       "    .dataframe tbody tr th {\n",
       "        vertical-align: top;\n",
       "    }\n",
       "\n",
       "    .dataframe thead th {\n",
       "        text-align: right;\n",
       "    }\n",
       "</style>\n",
       "<table border=\"1\" class=\"dataframe\">\n",
       "  <thead>\n",
       "    <tr style=\"text-align: right;\">\n",
       "      <th></th>\n",
       "      <th>Tweets</th>\n",
       "      <th>User</th>\n",
       "      <th>User_statuses_count</th>\n",
       "      <th>user_followers</th>\n",
       "      <th>user_location</th>\n",
       "      <th>user-verified</th>\n",
       "      <th>fav_count</th>\n",
       "      <th>rt_count</th>\n",
       "      <th>tweet_date</th>\n",
       "      <th>User_location</th>\n",
       "      <th>User_verified</th>\n",
       "      <th>clean_tweet</th>\n",
       "      <th>Sentiment</th>\n",
       "    </tr>\n",
       "  </thead>\n",
       "  <tbody>\n",
       "    <tr>\n",
       "      <th>0</th>\n",
       "      <td>RT @Divyansh_4510: BCCI:- Rohit is not fit\\nMI...</td>\n",
       "      <td>mysore gopinath rao</td>\n",
       "      <td>21</td>\n",
       "      <td>16</td>\n",
       "      <td>NaN</td>\n",
       "      <td>NaN</td>\n",
       "      <td>0</td>\n",
       "      <td>445</td>\n",
       "      <td>2020-11-16 23:02:44</td>\n",
       "      <td></td>\n",
       "      <td>False</td>\n",
       "      <td>RT 4510 BCCI Rohit is not fit MI Rohit is in t...</td>\n",
       "      <td>Negative</td>\n",
       "    </tr>\n",
       "    <tr>\n",
       "      <th>1</th>\n",
       "      <td>RT @SportsCloud3: So Rohit Sharma is unfit..\\n...</td>\n",
       "      <td>j</td>\n",
       "      <td>21718</td>\n",
       "      <td>666</td>\n",
       "      <td>NaN</td>\n",
       "      <td>NaN</td>\n",
       "      <td>0</td>\n",
       "      <td>15</td>\n",
       "      <td>2020-11-16 04:39:43</td>\n",
       "      <td></td>\n",
       "      <td>False</td>\n",
       "      <td>RT So Rohit Sharma is unfit This is how unfit ...</td>\n",
       "      <td>Positive</td>\n",
       "    </tr>\n",
       "    <tr>\n",
       "      <th>2</th>\n",
       "      <td>RT @SportsCloud3: So Rohit Sharma is unfit..\\n...</td>\n",
       "      <td>~murali amigo~</td>\n",
       "      <td>5203</td>\n",
       "      <td>278</td>\n",
       "      <td>NaN</td>\n",
       "      <td>NaN</td>\n",
       "      <td>0</td>\n",
       "      <td>15</td>\n",
       "      <td>2020-11-12 12:56:29</td>\n",
       "      <td>Telangana state</td>\n",
       "      <td>False</td>\n",
       "      <td>RT So Rohit Sharma is unfit This is how unfit ...</td>\n",
       "      <td>Positive</td>\n",
       "    </tr>\n",
       "    <tr>\n",
       "      <th>3</th>\n",
       "      <td>@imVkohli @BCCI Virat is unfit as captain for ...</td>\n",
       "      <td>Praveen Kumar</td>\n",
       "      <td>4</td>\n",
       "      <td>0</td>\n",
       "      <td>NaN</td>\n",
       "      <td>NaN</td>\n",
       "      <td>24</td>\n",
       "      <td>0</td>\n",
       "      <td>2020-11-12 03:37:58</td>\n",
       "      <td></td>\n",
       "      <td>False</td>\n",
       "      <td>Virat is unfit as captain for India team espec...</td>\n",
       "      <td>Positive</td>\n",
       "    </tr>\n",
       "    <tr>\n",
       "      <th>4</th>\n",
       "      <td>RT @SportsCloud3: So Rohit Sharma is unfit..\\n...</td>\n",
       "      <td>Saiviswanadha</td>\n",
       "      <td>2323</td>\n",
       "      <td>0</td>\n",
       "      <td>NaN</td>\n",
       "      <td>NaN</td>\n",
       "      <td>0</td>\n",
       "      <td>15</td>\n",
       "      <td>2020-11-11 20:15:22</td>\n",
       "      <td></td>\n",
       "      <td>False</td>\n",
       "      <td>RT So Rohit Sharma is unfit This is how unfit ...</td>\n",
       "      <td>Positive</td>\n",
       "    </tr>\n",
       "  </tbody>\n",
       "</table>\n",
       "</div>"
      ],
      "text/plain": [
       "                                              Tweets                 User  \\\n",
       "0  RT @Divyansh_4510: BCCI:- Rohit is not fit\\nMI...  mysore gopinath rao   \n",
       "1  RT @SportsCloud3: So Rohit Sharma is unfit..\\n...                    j   \n",
       "2  RT @SportsCloud3: So Rohit Sharma is unfit..\\n...       ~murali amigo~   \n",
       "3  @imVkohli @BCCI Virat is unfit as captain for ...        Praveen Kumar   \n",
       "4  RT @SportsCloud3: So Rohit Sharma is unfit..\\n...        Saiviswanadha   \n",
       "\n",
       "  User_statuses_count user_followers user_location user-verified fav_count  \\\n",
       "0                  21             16           NaN           NaN         0   \n",
       "1               21718            666           NaN           NaN         0   \n",
       "2                5203            278           NaN           NaN         0   \n",
       "3                   4              0           NaN           NaN        24   \n",
       "4                2323              0           NaN           NaN         0   \n",
       "\n",
       "  rt_count           tweet_date     User_location User_verified  \\\n",
       "0      445  2020-11-16 23:02:44                           False   \n",
       "1       15  2020-11-16 04:39:43                           False   \n",
       "2       15  2020-11-12 12:56:29   Telangana state         False   \n",
       "3        0  2020-11-12 03:37:58                           False   \n",
       "4       15  2020-11-11 20:15:22                           False   \n",
       "\n",
       "                                         clean_tweet Sentiment  \n",
       "0  RT 4510 BCCI Rohit is not fit MI Rohit is in t...  Negative  \n",
       "1  RT So Rohit Sharma is unfit This is how unfit ...  Positive  \n",
       "2  RT So Rohit Sharma is unfit This is how unfit ...  Positive  \n",
       "3  Virat is unfit as captain for India team espec...  Positive  \n",
       "4  RT So Rohit Sharma is unfit This is how unfit ...  Positive  "
      ]
     },
     "execution_count": 15,
     "metadata": {},
     "output_type": "execute_result"
    }
   ],
   "source": [
    "df['Sentiment'] = df['clean_tweet'].apply(lambda x : analyze_sentiment(x) )\n",
    "df.head()"
   ]
  },
  {
   "cell_type": "code",
   "execution_count": 16,
   "metadata": {},
   "outputs": [
    {
     "name": "stdout",
     "output_type": "stream",
     "text": [
      "Original tweet:\n",
      " @BCCI now don't Say Rohit Sharma is unfit\n",
      "bring him for T20 and ODI series you biased bullshit!\n",
      "\n",
      "Clean tweet:\n",
      " now don t Say Rohit Sharma is unfit bring him for T20 and ODI series you biased bullshit\n",
      "\n",
      "Sentiment of the tweet:\n",
      " Neutral\n"
     ]
    }
   ],
   "source": [
    "n = 20\n",
    "print(\"Original tweet:\\n\",df['Tweets'][n])\n",
    "print()\n",
    "print(\"Clean tweet:\\n\",df['clean_tweet'][n])\n",
    "print()\n",
    "print(\"Sentiment of the tweet:\\n\",df['Sentiment'][n])"
   ]
  },
  {
   "cell_type": "code",
   "execution_count": 17,
   "metadata": {},
   "outputs": [
    {
     "data": {
      "text/plain": [
       "43"
      ]
     },
     "execution_count": 17,
     "metadata": {},
     "output_type": "execute_result"
    }
   ],
   "source": [
    "df[df.Sentiment == 'Positive'].shape[0]"
   ]
  },
  {
   "cell_type": "code",
   "execution_count": 18,
   "metadata": {},
   "outputs": [
    {
     "data": {
      "text/plain": [
       "8"
      ]
     },
     "execution_count": 18,
     "metadata": {},
     "output_type": "execute_result"
    }
   ],
   "source": [
    "df[df.Sentiment == 'Neutral'].shape[0]"
   ]
  },
  {
   "cell_type": "code",
   "execution_count": 19,
   "metadata": {},
   "outputs": [
    {
     "data": {
      "text/plain": [
       "1"
      ]
     },
     "execution_count": 19,
     "metadata": {},
     "output_type": "execute_result"
    }
   ],
   "source": [
    "df[df.Sentiment == 'Negative'].shape[0]"
   ]
  },
  {
   "cell_type": "code",
   "execution_count": null,
   "metadata": {},
   "outputs": [],
   "source": []
  }
 ],
 "metadata": {
  "kernelspec": {
   "display_name": "Python 3",
   "language": "python",
   "name": "python3"
  },
  "language_info": {
   "codemirror_mode": {
    "name": "ipython",
    "version": 3
   },
   "file_extension": ".py",
   "mimetype": "text/x-python",
   "name": "python",
   "nbconvert_exporter": "python",
   "pygments_lexer": "ipython3",
   "version": "3.7.6"
  }
 },
 "nbformat": 4,
 "nbformat_minor": 4
}
