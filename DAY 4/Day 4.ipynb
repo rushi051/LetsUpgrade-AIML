{
 "cells": [
  {
   "cell_type": "markdown",
   "metadata": {},
   "source": [
    "# DAY 4"
   ]
  },
  {
   "cell_type": "markdown",
   "metadata": {},
   "source": [
    "# QUE 1"
   ]
  },
  {
   "cell_type": "code",
   "execution_count": 13,
   "metadata": {},
   "outputs": [
    {
     "name": "stdout",
     "output_type": "stream",
     "text": [
      "Enter a comlex no2+8j\n",
      "Enter a comlex no6+9j\n",
      "Given Complex numbers (2+8j) (6+9j)\n",
      "addition : (8+17j)\n",
      "Substraction : (-4-1j)\n",
      "Multiplication : (-60+66j)\n",
      "Division : (0.717948717948718+0.2564102564102564j)\n",
      "Floor DIvision (-0.48966303322235877+2.0083032486991272j)\n",
      "Modulo : 8.246211251235321\n"
     ]
    }
   ],
   "source": [
    "import cmath\n",
    "a = complex(input(\"Enter a comlex no\"))\n",
    "b = complex(input(\"Enter a comlex no\"))\n",
    "print(\"Given Complex numbers\",a,b)\n",
    "\n",
    "add = a+b\n",
    "print(\"addition :\",add)\n",
    "\n",
    "sub = a-b\n",
    "print(\"Substraction :\",sub)\n",
    "\n",
    "mul = a*b\n",
    "print(\"Multiplication :\",mul)\n",
    "\n",
    "div = a/b\n",
    "print(\"Division :\",div)\n",
    "\n",
    "fdiv = a**b\n",
    "print(\"Floor DIvision\",fdiv)\n",
    "\n",
    "mod=cmath.sqrt((a.real)**2+(a.imag)**2)\n",
    "print(\"Modulo :\",mod.real)"
   ]
  },
  {
   "cell_type": "markdown",
   "metadata": {},
   "source": [
    "# QUE 2\n"
   ]
  },
  {
   "cell_type": "markdown",
   "metadata": {},
   "source": [
    "range () function is generally used to define a range in which a the function or the program should run ,it should not go beyond that"
   ]
  },
  {
   "cell_type": "code",
   "execution_count": 2,
   "metadata": {},
   "outputs": [
    {
     "name": "stdout",
     "output_type": "stream",
     "text": [
      "1\n",
      "2\n",
      "3\n",
      "4\n",
      "5\n",
      "6\n",
      "7\n",
      "8\n",
      "9\n",
      "10\n",
      "11\n",
      "12\n",
      "13\n",
      "14\n",
      "15\n",
      "16\n",
      "17\n",
      "18\n",
      "19\n",
      "20\n",
      "21\n",
      "22\n",
      "23\n",
      "24\n",
      "25\n",
      "26\n",
      "27\n",
      "28\n",
      "29\n",
      "30\n",
      "31\n",
      "32\n",
      "33\n",
      "34\n",
      "35\n",
      "36\n",
      "37\n",
      "38\n",
      "39\n",
      "40\n",
      "41\n",
      "42\n",
      "43\n",
      "44\n",
      "45\n",
      "46\n",
      "47\n",
      "48\n",
      "49\n",
      "50\n",
      "51\n",
      "52\n",
      "53\n",
      "54\n",
      "55\n",
      "56\n",
      "57\n",
      "58\n",
      "59\n",
      "60\n",
      "61\n",
      "62\n",
      "63\n",
      "64\n",
      "65\n",
      "66\n",
      "67\n",
      "68\n",
      "69\n",
      "70\n",
      "71\n",
      "72\n",
      "73\n",
      "74\n",
      "75\n",
      "76\n",
      "77\n",
      "78\n",
      "79\n",
      "80\n",
      "81\n",
      "82\n",
      "83\n",
      "84\n",
      "85\n",
      "86\n",
      "87\n",
      "88\n",
      "89\n",
      "90\n",
      "91\n",
      "92\n",
      "93\n",
      "94\n",
      "95\n",
      "96\n",
      "97\n",
      "98\n",
      "99\n"
     ]
    }
   ],
   "source": [
    "a = range(1,100)\n",
    "for i in a:\n",
    "    print(i)"
   ]
  },
  {
   "cell_type": "markdown",
   "metadata": {},
   "source": [
    "# QUE 3"
   ]
  },
  {
   "cell_type": "code",
   "execution_count": 5,
   "metadata": {},
   "outputs": [
    {
     "name": "stdout",
     "output_type": "stream",
     "text": [
      "Enter a number300\n",
      "Enter a number276\n",
      "substraction is 24\n",
      "Division : 1.0869565217391304\n"
     ]
    }
   ],
   "source": [
    "a = int(input(\"Enter a number\"))\n",
    "b = int(input(\"Enter a number\"))\n",
    "sub = a-b\n",
    "mul = a*b\n",
    "div = a/b\n",
    "print(\"substraction is\",sub)\n",
    "if sub > 25:\n",
    "    print(\"multiplication :\",mul)\n",
    "else:\n",
    "    print(\"Division :\",div)\n",
    "    "
   ]
  },
  {
   "cell_type": "code",
   "execution_count": 6,
   "metadata": {},
   "outputs": [
    {
     "name": "stdout",
     "output_type": "stream",
     "text": [
      "Enter a number300\n",
      "Enter a number270\n",
      "substraction is 30\n",
      "multiplication : 81000\n"
     ]
    }
   ],
   "source": [
    "a = int(input(\"Enter a number\"))\n",
    "b = int(input(\"Enter a number\"))\n",
    "sub = a-b\n",
    "mul = a*b\n",
    "div = a/b\n",
    "print(\"substraction is\",sub)\n",
    "if sub > 25:\n",
    "    print(\"multiplication :\",mul)\n",
    "else:\n",
    "    print(\"Division :\",div)\n",
    "    "
   ]
  },
  {
   "cell_type": "markdown",
   "metadata": {},
   "source": [
    "# QUE 4"
   ]
  },
  {
   "cell_type": "code",
   "execution_count": 21,
   "metadata": {},
   "outputs": [
    {
     "name": "stdout",
     "output_type": "stream",
     "text": [
      "Number is not divisible by 2\n",
      "result: 2\n",
      "Number is not divisible by 2\n",
      "result: 14\n",
      "Number is not divisible by 2\n"
     ]
    }
   ],
   "source": [
    "a = (1,2,3,4,5)\n",
    "\n",
    "for i in a:\n",
    "    result = (i*i)-2\n",
    "    if i%2 == 0:\n",
    "        print (\"result:\",result)\n",
    "    else:\n",
    "        print(\"Number is not divisible by 2\")"
   ]
  },
  {
   "cell_type": "markdown",
   "metadata": {},
   "source": [
    "# QUE 5"
   ]
  },
  {
   "cell_type": "code",
   "execution_count": 39,
   "metadata": {},
   "outputs": [
    {
     "name": "stdout",
     "output_type": "stream",
     "text": [
      "12\n",
      "14\n",
      "16\n",
      "18\n",
      "20\n",
      "46\n"
     ]
    }
   ],
   "source": [
    "b = (11,12,13,14,15,16,17,18,19,20,46)\n",
    "for i in b:\n",
    "    if i%2==0 & i<10:\n",
    "    \n",
    "        print(i)\n",
    "    \n",
    "    "
   ]
  },
  {
   "cell_type": "code",
   "execution_count": null,
   "metadata": {},
   "outputs": [],
   "source": []
  }
 ],
 "metadata": {
  "kernelspec": {
   "display_name": "Python 3",
   "language": "python",
   "name": "python3"
  },
  "language_info": {
   "codemirror_mode": {
    "name": "ipython",
    "version": 3
   },
   "file_extension": ".py",
   "mimetype": "text/x-python",
   "name": "python",
   "nbconvert_exporter": "python",
   "pygments_lexer": "ipython3",
   "version": "3.7.6"
  }
 },
 "nbformat": 4,
 "nbformat_minor": 4
}
